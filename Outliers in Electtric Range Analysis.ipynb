{
 "cells": [
  {
   "cell_type": "code",
   "execution_count": 1,
   "id": "86b27638",
   "metadata": {},
   "outputs": [],
   "source": [
    "import pandas as pd\n",
    "import seaborn as sns\n",
    "import matplotlib.pyplot as plt\n",
    "import matplotlib.gridspec as gridspec\n",
    "import numpy as np"
   ]
  },
  {
   "cell_type": "markdown",
   "id": "1142990a",
   "metadata": {},
   "source": [
    "### Load Filtered Data One"
   ]
  },
  {
   "cell_type": "code",
   "execution_count": 2,
   "id": "ad515642",
   "metadata": {},
   "outputs": [],
   "source": [
    "df1_filtered = pd.read_csv(\"asserts/df1_filtered.csv\")"
   ]
  },
  {
   "cell_type": "code",
   "execution_count": 3,
   "id": "b92117f1",
   "metadata": {},
   "outputs": [
    {
     "data": {
      "text/html": [
       "<div>\n",
       "<style scoped>\n",
       "    .dataframe tbody tr th:only-of-type {\n",
       "        vertical-align: middle;\n",
       "    }\n",
       "\n",
       "    .dataframe tbody tr th {\n",
       "        vertical-align: top;\n",
       "    }\n",
       "\n",
       "    .dataframe thead th {\n",
       "        text-align: right;\n",
       "    }\n",
       "</style>\n",
       "<table border=\"1\" class=\"dataframe\">\n",
       "  <thead>\n",
       "    <tr style=\"text-align: right;\">\n",
       "      <th></th>\n",
       "      <th>State</th>\n",
       "      <th>County</th>\n",
       "      <th>City</th>\n",
       "      <th>Make</th>\n",
       "      <th>Model</th>\n",
       "      <th>ModelYear</th>\n",
       "      <th>EVType</th>\n",
       "      <th>ElectricRange</th>\n",
       "      <th>BasePrice</th>\n",
       "    </tr>\n",
       "  </thead>\n",
       "  <tbody>\n",
       "    <tr>\n",
       "      <th>0</th>\n",
       "      <td>WA</td>\n",
       "      <td>King</td>\n",
       "      <td>Seattle</td>\n",
       "      <td>BMW</td>\n",
       "      <td>X5</td>\n",
       "      <td>2023</td>\n",
       "      <td>PHEV</td>\n",
       "      <td>30</td>\n",
       "      <td>0</td>\n",
       "    </tr>\n",
       "    <tr>\n",
       "      <th>1</th>\n",
       "      <td>WA</td>\n",
       "      <td>Yakima</td>\n",
       "      <td>Moxee</td>\n",
       "      <td>FORD</td>\n",
       "      <td>ESCAPE</td>\n",
       "      <td>2022</td>\n",
       "      <td>PHEV</td>\n",
       "      <td>38</td>\n",
       "      <td>0</td>\n",
       "    </tr>\n",
       "    <tr>\n",
       "      <th>2</th>\n",
       "      <td>WA</td>\n",
       "      <td>King</td>\n",
       "      <td>Seattle</td>\n",
       "      <td>CHEVROLET</td>\n",
       "      <td>BOLT EV</td>\n",
       "      <td>2018</td>\n",
       "      <td>BEV</td>\n",
       "      <td>238</td>\n",
       "      <td>0</td>\n",
       "    </tr>\n",
       "    <tr>\n",
       "      <th>3</th>\n",
       "      <td>WA</td>\n",
       "      <td>King</td>\n",
       "      <td>Newcastle</td>\n",
       "      <td>TESLA</td>\n",
       "      <td>MODEL S</td>\n",
       "      <td>2013</td>\n",
       "      <td>BEV</td>\n",
       "      <td>208</td>\n",
       "      <td>69900</td>\n",
       "    </tr>\n",
       "    <tr>\n",
       "      <th>4</th>\n",
       "      <td>WA</td>\n",
       "      <td>Kitsap</td>\n",
       "      <td>Bremerton</td>\n",
       "      <td>FORD</td>\n",
       "      <td>C-MAX</td>\n",
       "      <td>2015</td>\n",
       "      <td>PHEV</td>\n",
       "      <td>19</td>\n",
       "      <td>0</td>\n",
       "    </tr>\n",
       "  </tbody>\n",
       "</table>\n",
       "</div>"
      ],
      "text/plain": [
       "  State  County       City       Make    Model  ModelYear EVType  \\\n",
       "0    WA    King    Seattle        BMW       X5       2023   PHEV   \n",
       "1    WA  Yakima      Moxee       FORD   ESCAPE       2022   PHEV   \n",
       "2    WA    King    Seattle  CHEVROLET  BOLT EV       2018    BEV   \n",
       "3    WA    King  Newcastle      TESLA  MODEL S       2013    BEV   \n",
       "4    WA  Kitsap  Bremerton       FORD    C-MAX       2015   PHEV   \n",
       "\n",
       "   ElectricRange  BasePrice  \n",
       "0             30          0  \n",
       "1             38          0  \n",
       "2            238          0  \n",
       "3            208      69900  \n",
       "4             19          0  "
      ]
     },
     "execution_count": 3,
     "metadata": {},
     "output_type": "execute_result"
    }
   ],
   "source": [
    "df1_filtered.head(5)"
   ]
  },
  {
   "cell_type": "markdown",
   "id": "7f48e7ff",
   "metadata": {},
   "source": [
    "## Outliers in Electric Range Aanlysis"
   ]
  },
  {
   "cell_type": "markdown",
   "id": "40022897",
   "metadata": {},
   "source": [
    "Conduct a comprehensive examination of the ElectricRange, focusing intently on both extremities—namely the zero values and the elevated numbers. This in-depth analysis will pave the way for informed conclusions and subsequent actions.\n",
    "\n",
    "Employ a range of visual aids and engage in multifaceted cross-variable analyses to unearth profound insights, ensuring that the derived conclusions are well-supported and robust."
   ]
  },
  {
   "cell_type": "code",
   "execution_count": 4,
   "id": "a6505b75",
   "metadata": {},
   "outputs": [
    {
     "data": {
      "text/plain": [
       "ElectricRange\n",
       "0      63875\n",
       "215     6463\n",
       "220     4142\n",
       "84      4036\n",
       "238     3548\n",
       "25      3483\n",
       "21      2614\n",
       "32      2543\n",
       "208     2535\n",
       "19      2526\n",
       "Name: count, dtype: int64"
      ]
     },
     "execution_count": 4,
     "metadata": {},
     "output_type": "execute_result"
    }
   ],
   "source": [
    "df1_filtered[\"ElectricRange\"].value_counts().head(10)"
   ]
  },
  {
   "cell_type": "markdown",
   "id": "89f6729c",
   "metadata": {},
   "source": [
    "#### Findings on `ElectricRange` Value Counts:\n",
    "\n",
    "- **Zero Range Observations:** \n",
    "  A remarkable section of the dataset is characterized by an `ElectricRange` of `0`. Specifically, there are `63,875` entries with this attribute. The prominence of such entries suggests potential data patterns or areas for further investigation.\n"
   ]
  },
  {
   "cell_type": "code",
   "execution_count": 5,
   "id": "b6d455d3",
   "metadata": {},
   "outputs": [
    {
     "data": {
      "text/plain": [
       "count    143359.000000\n",
       "mean         70.486757\n",
       "std          97.120983\n",
       "min           0.000000\n",
       "25%           0.000000\n",
       "50%          19.000000\n",
       "75%         111.000000\n",
       "max         337.000000\n",
       "Name: ElectricRange, dtype: float64"
      ]
     },
     "execution_count": 5,
     "metadata": {},
     "output_type": "execute_result"
    }
   ],
   "source": [
    "df1_filtered[\"ElectricRange\"].describe()"
   ]
  },
  {
   "cell_type": "markdown",
   "id": "2c67da67",
   "metadata": {},
   "source": [
    "#### Findings on `ElectricRange` Value Distribution:\n",
    "\n",
    "- **Median Insight:** \n",
    "  Half of the data points, or 50%, possess an `ElectricRange` value of `19` or lower.\n",
    "\n",
    "- **Maximum Value:** \n",
    "  The dataset reaches a peak `ElectricRange` of `337`, pointing to some extreme values or potential outliers.\n",
    "\n",
    "- **Variability:** \n",
    "  The considerable standard deviation underscores a pronounced variability in the `ElectricRange`. This means the values are spread out and can deviate significantly from the mean.\n",
    "\n",
    "Given the observed variability and the stark difference between the median and the maximum, a deeper analysis might be warranted to understand the reasons or potential outliers behind such dispersion.\n"
   ]
  },
  {
   "cell_type": "code",
   "execution_count": 6,
   "id": "681e6fda",
   "metadata": {},
   "outputs": [
    {
     "data": {
      "image/png": "[encoded data removed]",
      "text/plain": [
       "<Figure size 800x400 with 1 Axes>"
      ]
     },
     "metadata": {},
     "output_type": "display_data"
    }
   ],
   "source": [
    "# Visualizing the distribution of the electric range\n",
    "\n",
    "plt.figure(figsize=(8, 4))\n",
    "sns.histplot(df1_filtered[\"ElectricRange\"], kde=True, bins=30)\n",
    "plt.title(\"Distribution of ElectricRange\")\n",
    "plt.xlabel(\"Electric Range\")\n",
    "plt.ylabel(\"Frequency\")\n",
    "plt.show()"
   ]
  },
  {
   "cell_type": "markdown",
   "id": "87653f83",
   "metadata": {},
   "source": [
    "#### Findings on `ElectricRange` Distribution:\n",
    "\n",
    "- **Dominance of Zero Range:** \n",
    "  The dataset reveals a stark dominance of the `zero electric range` with a substantial `60,000+` entries. This magnitude is far greater than any other range value in the dataset.\n",
    "\n",
    "- **Comparison with Non-Zero Ranges:** \n",
    "  In juxtaposition, every non-zero `ElectricRange` value is comparatively infrequent, each with less than `10,000` instances.\n",
    "\n",
    "- **Data Imbalance:** \n",
    "  The pronounced skewness towards zero electric range leads to a significant imbalance in the distribution of values. Such disparity could impact analyses and models and necessitates consideration in further evaluations.\n"
   ]
  },
  {
   "cell_type": "code",
   "execution_count": 7,
   "id": "7eba73d1",
   "metadata": {},
   "outputs": [
    {
     "data": {
      "image/png": "[encoded data removed]",
      "text/plain": [
       "<Figure size 800x400 with 1 Axes>"
      ]
     },
     "metadata": {},
     "output_type": "display_data"
    }
   ],
   "source": [
    "# exclude the zero value and only focus on the rest of the distribution\n",
    "plt.figure(figsize=(8, 4))\n",
    "sns.histplot(\n",
    "    df1_filtered[df1_filtered[\"ElectricRange\"] > 0][\"ElectricRange\"], kde=True, bins=30\n",
    ")\n",
    "plt.title(\"Distribution of Non-Zero ElectricRange\")\n",
    "plt.xlabel(\"Electric Range\")\n",
    "plt.ylabel(\"Frequency\")\n",
    "plt.show()"
   ]
  },
  {
   "cell_type": "markdown",
   "id": "b98df3d4",
   "metadata": {},
   "source": [
    "#### Findings from `ElectricRange` Histogram Analysis:\n",
    "\n",
    "##### **Focus on Non-Zero Ranges:**\n",
    "Given the histogram tailored exclusively to non-zero `ElectricRange` values, several key insights emerge:\n",
    "\n",
    "- **Prominent Bifurcation:** \n",
    "  The frequency distribution clearly bifurcates into two dominant clusters:\n",
    "  - A range around the `20` mark registers a heightened frequency, surpassing `12,000` instances.\n",
    "  - A second cluster encircling the `200` mark is evident with a frequency exceeding `10,000`.\n",
    "\n",
    "- **Intervening Ranges:** \n",
    "  Between these primary clusters, there's a scattering of data bins with notable but lesser concentrations:\n",
    "  - Roughly `six bins` are discerned to have frequencies ranging between `2,000` and `5,000`.\n",
    "  - These bins resonate within specific electric range segments, namely: sub-`20`, `80` to `90`, around `220`, `250`, and nearing `290`.\n",
    "\n",
    "- **Subdued Presence:** \n",
    "  Most other bins within the histogram exhibit a more muted presence, each with frequencies falling below `2,000` instances.\n",
    "\n",
    "The analysis underscores the intricate patterns and clusters present in the electric ranges and hints at possible segmentations or groupings within the data.\n"
   ]
  },
  {
   "cell_type": "code",
   "execution_count": 8,
   "id": "5c384fc1",
   "metadata": {},
   "outputs": [
    {
     "name": "stdout",
     "output_type": "stream",
     "text": [
      "Outliers in Electric Range:\n",
      "15        293\n",
      "67        322\n",
      "71        293\n",
      "76        289\n",
      "81        291\n",
      "         ... \n",
      "143237    289\n",
      "143277    293\n",
      "143298    291\n",
      "143350    291\n",
      "143352    291\n",
      "Name: ElectricRange, Length: 5925, dtype: int64\n"
     ]
    }
   ],
   "source": [
    "# detect outliers in \"ElectricRange\" column using IQR method\n",
    "Q1 = df1_filtered[\"ElectricRange\"].quantile(0.25)\n",
    "Q3 = df1_filtered[\"ElectricRange\"].quantile(0.75)\n",
    "IQR = Q3 - Q1\n",
    "lower_bound = Q1 - 1.5 * IQR\n",
    "upper_bound = Q3 + 1.5 * IQR\n",
    "\n",
    "\n",
    "outliers = df1_filtered[\n",
    "    (df1_filtered[\"ElectricRange\"] < lower_bound)\n",
    "    | (df1_filtered[\"ElectricRange\"] > upper_bound)\n",
    "]\n",
    "print(\"Outliers in Electric Range:\")\n",
    "print(outliers[\"ElectricRange\"])"
   ]
  },
  {
   "cell_type": "code",
   "execution_count": 9,
   "id": "fd808d24",
   "metadata": {},
   "outputs": [
    {
     "data": {
      "image/png": "[encoded data removed]",
      "text/plain": [
       "<Figure size 800x400 with 1 Axes>"
      ]
     },
     "metadata": {},
     "output_type": "display_data"
    }
   ],
   "source": [
    "# visualize the outliers using a Box Plot\n",
    "plt.figure(figsize=(8, 4))\n",
    "sns.boxplot(x=df1_filtered[\"ElectricRange\"])\n",
    "plt.title(\"Box plot of ElectricRange\")\n",
    "plt.show()"
   ]
  },
  {
   "cell_type": "markdown",
   "id": "9cdbf0b5",
   "metadata": {},
   "source": [
    "#### Outlier Analysis of `ElectricRange`:\n",
    "\n",
    "#### **IQR Method Insights:**\n",
    "Leveraging the Interquartile Range (IQR) method to ascertain outliers within the `ElectricRange` variable provides valuable insights:\n",
    "\n",
    "- **Presence of Outliers:** \n",
    "  The boxplot elucidates a marked presence of outliers, suggesting non-trivial deviations from the main data cluster.\n",
    "\n",
    "- **Dataset Variability:** \n",
    "  Such a conspicuous number of outliers underscores a significant degree of variability and deviation inherent in the dataset.\n",
    "\n",
    "The observations highlight the importance of recognizing and potentially addressing these outliers, especially when undertaking subsequent analyses or modeling exercises.\n"
   ]
  },
  {
   "cell_type": "markdown",
   "id": "85dd05e0",
   "metadata": {},
   "source": [
    "### Analyzing the Zero Values"
   ]
  },
  {
   "cell_type": "markdown",
   "id": "492efbed",
   "metadata": {},
   "source": [
    "Considering the findings above, the initial step is to scrutinize the rows with zero values in the 'ElectricRange' variable. It is imperative to ascertain whether a value of 0 represents instances of missing or unrecorded data, or if it constitutes a legitimate value indicative of vehicles possessing no electric range, potentially corresponding to certain hybrid vehicle models"
   ]
  },
  {
   "cell_type": "code",
   "execution_count": 10,
   "id": "a4a964ac",
   "metadata": {},
   "outputs": [
    {
     "name": "stdout",
     "output_type": "stream",
     "text": [
      "Make\n",
      "Make\n",
      "TESLA            39708\n",
      "FORD              3351\n",
      "CHEVROLET         3053\n",
      "VOLKSWAGEN        2834\n",
      "KIA               2501\n",
      "NISSAN            2289\n",
      "RIVIAN            2208\n",
      "HYUNDAI           2140\n",
      "VOLVO             1121\n",
      "BMW               1101\n",
      "AUDI               939\n",
      "MERCEDES-BENZ      608\n",
      "MINI               438\n",
      "SUBARU             438\n",
      "POLESTAR           371\n",
      "PORSCHE            315\n",
      "LUCID              176\n",
      "TOYOTA              96\n",
      "GENESIS             88\n",
      "CADILLAC            49\n",
      "JAGUAR              27\n",
      "LEXUS               24\n",
      "Name: count, dtype: int64\n",
      "Model\n",
      "Model\n",
      "MODEL Y             23901\n",
      "MODEL 3             12689\n",
      "ID.4                 2834\n",
      "MUSTANG MACH-E       2429\n",
      "LEAF                 2065\n",
      "BOLT EV              1970\n",
      "MODEL X              1721\n",
      "EV6                  1561\n",
      "IONIQ 5              1464\n",
      "MODEL S              1397\n",
      "R1T                  1314\n",
      "BOLT EUV             1083\n",
      "NIRO                  937\n",
      "XC40                  794\n",
      "F-150                 674\n",
      "I4                    641\n",
      "R1S                   611\n",
      "KONA ELECTRIC         555\n",
      "HARDTOP               438\n",
      "SOLTERRA              438\n",
      "IX                    428\n",
      "E-TRON                393\n",
      "PS2                   371\n",
      "C40                   327\n",
      "TAYCAN                315\n",
      "EDV                   283\n",
      "Q4                    264\n",
      "TRANSIT               248\n",
      "ARIYA                 224\n",
      "AIR                   176\n",
      "EQS-CLASS SEDAN       168\n",
      "EQS-CLASS SUV         160\n",
      "EQB-CLASS             144\n",
      "E-TRON GT             114\n",
      "IONIQ 6               112\n",
      "BZ4X                   96\n",
      "E-TRON SPORTBACK       95\n",
      "EQE-CLASS SUV          72\n",
      "GV60                   70\n",
      "EQE-CLASS SEDAN        64\n",
      "LYRIQ                  49\n",
      "Q8                     47\n",
      "I3                     32\n",
      "I-PACE                 27\n",
      "RS E-TRON GT           26\n",
      "RZ 450E                24\n",
      "G80                    11\n",
      "IONIQ                   9\n",
      "GV70                    7\n",
      "SOUL EV                 3\n",
      "Name: count, dtype: int64\n",
      "ModelYear\n",
      "ModelYear\n",
      "2023    25773\n",
      "2022    23620\n",
      "2021    14301\n",
      "2024      118\n",
      "2020       60\n",
      "2019        3\n",
      "Name: count, dtype: int64\n",
      "EVType\n",
      "EVType\n",
      "BEV    63875\n",
      "Name: count, dtype: int64\n"
     ]
    }
   ],
   "source": [
    "# filter out zero value rows\n",
    "zero_range = df1_filtered[df1_filtered[\"ElectricRange\"] == 0]\n",
    "\n",
    "# Explore the characteristics of these rows, ('EVType', 'Make', 'Model', 'ModelYear')\n",
    "\n",
    "checking_columns = [\"Make\", \"Model\", \"ModelYear\", \"EVType\"]\n",
    "for column in checking_columns:\n",
    "    print(f\"{column}\")\n",
    "    print(zero_range[column].value_counts())"
   ]
  },
  {
   "cell_type": "markdown",
   "id": "d29f32da",
   "metadata": {},
   "source": [
    "### Interpretation of the exploration of the zero \"ElectricRange\" across various columns:"
   ]
  },
  {
   "cell_type": "markdown",
   "id": "272811bc",
   "metadata": {},
   "source": [
    "#### EV Type Consistency:\n",
    "\n",
    "- All zero `ElectricRange` entries correspond exclusively to the `Battery Electric Vehicle (BEV)` type.\n",
    "\n",
    "#### Make and Model:\n",
    "\n",
    "- The majority of zero `ElectricRange` entries are linked with the Tesla brand, specifically the ‘Model Y’ and ‘Model 3’.\n",
    "\n",
    "#### Temporal Consistency:\n",
    "\n",
    "- The bulk of zero `ElectricRange` occurrences are found in the years 2021, 2022, and 2023.\n",
    "\n",
    "#### Assumptions and Hypotheses:\n",
    "\n",
    "- The strong correlation of zero `ElectricRange` entries with the Tesla brand, especially the ‘Model Y’ and ‘Model 3’, might be a reflection of Tesla's dominant position in the Electric Vehicle market. This suggests that the abundance of Tesla in the dataset could signify its broad acceptance and appeal to consumers, potentially resulting in an increased number of such entries.\n",
    "\n",
    "- The accumulation of zeros in 2021, 2022, and 2023 hints at a regular trend during this period, possibly linked to shifts in manufacturing, documentation, or data collection methodologies.\n",
    "\n",
    "- The exclusive presence of zero `ElectricRange` values within the `BEV` category might reveal a systematic tendency or a unique trait tied to BEVs in this dataset. This could be influenced by the manner in which the data is documented or presented.\n"
   ]
  },
  {
   "cell_type": "markdown",
   "id": "a36c5538",
   "metadata": {},
   "source": [
    "### High Range Values Analysis"
   ]
  },
  {
   "cell_type": "markdown",
   "id": "16656a1d",
   "metadata": {},
   "source": [
    "- **Maximum Value Insight:** \n",
    "  The peak value recorded is `337`. This is significantly greater than the 75th percentile value, which is `111`. This disparity underscores the presence of outliers skewing towards the higher end.\n",
    "\n",
    "- **Significance of Analysis:** \n",
    "  Delving deep into high-range values is paramount. It's vital to discern whether these figures genuinely depict advanced vehicle models or merely represent anomalies in the dataset.\n"
   ]
  },
  {
   "cell_type": "code",
   "execution_count": 11,
   "id": "17ad8588",
   "metadata": {},
   "outputs": [],
   "source": [
    "# filter out high range values\n",
    "high_range = df1_filtered[df1_filtered[\"ElectricRange\"] > upper_bound]"
   ]
  },
  {
   "cell_type": "code",
   "execution_count": 12,
   "id": "0f9253a6",
   "metadata": {},
   "outputs": [
    {
     "name": "stdout",
     "output_type": "stream",
     "text": [
      "count    5925.000000\n",
      "mean      303.960506\n",
      "std        15.549961\n",
      "min       289.000000\n",
      "25%       291.000000\n",
      "50%       293.000000\n",
      "75%       322.000000\n",
      "max       337.000000\n",
      "Name: ElectricRange, dtype: float64\n"
     ]
    }
   ],
   "source": [
    "# examine the desceriptive stat of the high range values\n",
    "print(high_range[\"ElectricRange\"].describe())"
   ]
  },
  {
   "cell_type": "markdown",
   "id": "e7105114",
   "metadata": {},
   "source": [
    "#### Findings on High-Range Electric Values:\n",
    "\n",
    "- **Average Electric Range:** \n",
    "  The mean electric range for the high-range segment stands at approximately `304`. This figure considerably eclipses the overall dataset's average, which is pegged at `70`.\n",
    "\n",
    "- **Standard Deviation:** \n",
    "  The standard deviation measures around `15.55`, which is relatively modest. This signifies that the high-range values are concentrated and do not deviate significantly from the mean of `304`.\n",
    "\n",
    "- **Distribution Insight:** \n",
    "  The minimal standard deviation indicates that these high-range electric values are tightly clustered, suggesting consistency in the performance of vehicles within this segment.\n"
   ]
  },
  {
   "cell_type": "code",
   "execution_count": 13,
   "id": "594b7dc7",
   "metadata": {},
   "outputs": [
    {
     "name": "stdout",
     "output_type": "stream",
     "text": [
      "Make\n",
      "TESLA    5925\n",
      "Name: count, dtype: int64\n",
      "Model\n",
      "MODEL Y    2255\n",
      "MODEL 3    2209\n",
      "MODEL X    1071\n",
      "MODEL S     390\n",
      "Name: count, dtype: int64\n",
      "ModelYear\n",
      "2020    5514\n",
      "2019     411\n",
      "Name: count, dtype: int64\n",
      "EVType\n",
      "BEV    5925\n",
      "Name: count, dtype: int64\n"
     ]
    }
   ],
   "source": [
    "# Investigate the characteristics of vehicles with high electric range values,\n",
    "# focusing on variables such as 'Make', 'Model', 'ModelYear', and 'EVType'.\n",
    "for column in [\"Make\", \"Model\", \"ModelYear\", \"EVType\"]:\n",
    "    print(high_range[column].value_counts())"
   ]
  },
  {
   "cell_type": "code",
   "execution_count": 14,
   "id": "cfb11113",
   "metadata": {},
   "outputs": [],
   "source": [
    "# Visualizing only the model and model year value counts since \n",
    "# the make and evtype both have a single value\n",
    "\n",
    "# Using groupby to aggregate counts for each model-year combination\n",
    "count_df = (high_range.groupby(['Model', 'ModelYear'])\n",
    "                     .size()\n",
    "                     .reset_index(name='Count'))\n",
    "\n",
    "# Sorting the df to ensure that the bars are grouped correctly\n",
    "count_df.sort_values(by=[\"Model\", \"ModelYear\"], inplace=True)\n"
   ]
  },
  {
   "cell_type": "code",
   "execution_count": 15,
   "id": "c71619e0",
   "metadata": {},
   "outputs": [
    {
     "name": "stderr",
     "output_type": "stream",
     "text": [
      "C:\\Users\\SS\\AppData\\Local\\Temp\\ipykernel_9624\\3306039483.py:70: MatplotlibDeprecationWarning: Auto-removal of overlapping axes is deprecated since 3.6 and will be removed two minor releases later; explicitly call ax.remove() as needed.\n",
      "  plt.subplot(gs[0])\n"
     ]
    },
    {
     "data": {
      "image/png": "[encoded data removed]",
      "text/plain": [
       "<Figure size 600x400 with 3 Axes>"
      ]
     },
     "metadata": {},
     "output_type": "display_data"
    }
   ],
   "source": [
    "def plot_main_chart(count_df):\n",
    "    \"\"\"Plot main bar chart showing model counts by year.\"\"\"\n",
    "    barplot = sns.barplot(\n",
    "        x=\"Count\",\n",
    "        y=\"Model\",\n",
    "        data=count_df,\n",
    "        hue=\"ModelYear\",\n",
    "        errorbar=None,  # Instead of ci=None\n",
    "        palette=\"muted\",\n",
    "        orient=\"h\",\n",
    "        edgecolor=\"0.1\",\n",
    "    )\n",
    "\n",
    "    for p in barplot.patches:\n",
    "        width = p.get_width()\n",
    "        if not np.isfinite(width):  # Check if width is finite\n",
    "            continue\n",
    "\n",
    "        # Adjust the positioning of the annotations if they're getting plotted outside the figure\n",
    "        position = 4 + width if width < ax.get_xlim()[1] - 4 else width - 4\n",
    "\n",
    "        plt.text(\n",
    "            position,\n",
    "            p.get_y() + p.get_height() / 2,\n",
    "            \"{:1.0f}\".format(width),\n",
    "            ha=\"center\",\n",
    "            va=\"center\",\n",
    "        )\n",
    "\n",
    "    plt.title(\n",
    "        \"Distribution of High Range Electric Vehicles by Model and Year\",\n",
    "        loc=\"left\",\n",
    "        fontsize=12,\n",
    "        fontweight=\"bold\",\n",
    "        color=\"navy\",\n",
    "    )\n",
    "    plt.xlabel(\"Count\", fontsize=15, labelpad=15)\n",
    "    plt.ylabel(\"Model & Year\", fontsize=15, labelpad=15)\n",
    "    plt.xticks(fontsize=10)\n",
    "    plt.yticks(fontsize=10)\n",
    "    plt.legend(loc=\"lower right\", frameon=True, fontsize=12)\n",
    "\n",
    "\n",
    "def plot_side_chart(value, label):\n",
    "    \"\"\"Plot side charts for Make and EVType.\"\"\"\n",
    "    sns.barplot(x=[1], y=[value], palette=\"muted\", orient=\"h\", edgecolor=\"0.1\")\n",
    "    ax = plt.gca()\n",
    "    ax.text(\n",
    "        0.5,\n",
    "        -0.1,\n",
    "        label,\n",
    "        ha=\"center\",\n",
    "        va=\"center\",\n",
    "        fontsize=12,\n",
    "        fontweight=\"bold\",\n",
    "        color=\"navy\",\n",
    "        transform=ax.transAxes,\n",
    "    )\n",
    "    ax.tick_params(axis=\"y\", which=\"major\", labelsize=12)\n",
    "    ax.set_xticks([])\n",
    "    ax.set_ylabel(\"\")\n",
    "\n",
    "\n",
    "# Plotting\n",
    "sns.set_style(\"whitegrid\")\n",
    "sns.set_palette(\"pastel\")\n",
    "count_df.sort_values(by=\"Count\", ascending=False, inplace=True)\n",
    "\n",
    "f, ax = plt.subplots(figsize=(6, 4))\n",
    "gs = gridspec.GridSpec(1, 3, width_ratios=[6, 1, 1])\n",
    "\n",
    "plt.subplot(gs[0])\n",
    "plot_main_chart(count_df)\n",
    "\n",
    "plt.subplot(gs[1])\n",
    "plot_side_chart(\"Tesla\", \"Make\")\n",
    "\n",
    "plt.subplot(gs[2])\n",
    "plot_side_chart(\"BEV\", \"EVType\")\n",
    "\n",
    "plt.subplots_adjust(wspace=0.5)\n",
    "plt.show()"
   ]
  },
  {
   "cell_type": "markdown",
   "id": "9f7ec232",
   "metadata": {},
   "source": [
    "#### Findings:\n",
    "\n",
    "- **Brand Association:** \n",
    "  The exclusive association of high-range values with `Tesla` vehicles underscores the brand's dominance in electric range capabilities, particularly in the specified models and model years. This observation concurs with the notion that Tesla, being a flagship in the electric vehicle arena, epitomizes high-performance standards.\n",
    "\n",
    "- **BEV Representation:** \n",
    "  The consistent categorization of BEV as the `EVType` in high-range values highlights the intrinsic superiority of battery electric vehicles in attaining prolonged electric ranges.\n",
    "\n",
    "- **Tesla's Position:** \n",
    "  This analysis further advocates the necessity to factor in the technological strides, market stratagem, and elite status of Tesla when decoding these expansive electric range figures.\n",
    "\n",
    "- **Model Year Significance:** \n",
    "  The dominance of the `2020 model year` in the high-range spectrum implies potential enhancements incorporated during this period. This makes vehicles from this year especially significant for aficionados desiring optimal electric range.\n",
    "\n",
    "- **Conclusion:** \n",
    "  In sum, these revelations can be instrumental for prospective customers, industry connoisseurs, and electric vehicle enthusiasts striving to comprehend the panorama of electric vehicle capacities and Tesla's unique propositions.\n"
   ]
  }
 ],
 "metadata": {
  "kernelspec": {
   "display_name": "Python 3 (ipykernel)",
   "language": "python",
   "name": "python3"
  },
  "language_info": {
   "codemirror_mode": {
    "name": "ipython",
    "version": 3
   },
   "file_extension": ".py",
   "mimetype": "text/x-python",
   "name": "python",
   "nbconvert_exporter": "python",
   "pygments_lexer": "ipython3",
   "version": "3.11.3"
  },
  "toc": {
   "base_numbering": 1,
   "nav_menu": {},
   "number_sections": false,
   "sideBar": true,
   "skip_h1_title": false,
   "title_cell": "Table of Contents",
   "title_sidebar": "Contents",
   "toc_cell": false,
   "toc_position": {},
   "toc_section_display": true,
   "toc_window_display": false
  }
 },
 "nbformat": 4,
 "nbformat_minor": 5
}
