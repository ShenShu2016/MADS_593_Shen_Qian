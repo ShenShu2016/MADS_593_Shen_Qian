{
 "cells": [
  {
   "cell_type": "code",
   "execution_count": 1,
   "id": "86b27638",
   "metadata": {},
   "outputs": [],
   "source": [
    "import pandas as pd\n",
    "import numpy as np"
   ]
  },
  {
   "cell_type": "markdown",
   "id": "1142990a",
   "metadata": {},
   "source": [
    "### Load Original Datasets"
   ]
  },
  {
   "cell_type": "code",
   "execution_count": 2,
   "id": "30b3a7da",
   "metadata": {},
   "outputs": [
    {
     "data": {
      "text/html": [
       "<div>\n",
       "<style scoped>\n",
       "    .dataframe tbody tr th:only-of-type {\n",
       "        vertical-align: middle;\n",
       "    }\n",
       "\n",
       "    .dataframe tbody tr th {\n",
       "        vertical-align: top;\n",
       "    }\n",
       "\n",
       "    .dataframe thead th {\n",
       "        text-align: right;\n",
       "    }\n",
       "</style>\n",
       "<table border=\"1\" class=\"dataframe\">\n",
       "  <thead>\n",
       "    <tr style=\"text-align: right;\">\n",
       "      <th></th>\n",
       "      <th>VIN (1-10)</th>\n",
       "      <th>County</th>\n",
       "      <th>City</th>\n",
       "      <th>State</th>\n",
       "      <th>Postal Code</th>\n",
       "      <th>Model Year</th>\n",
       "      <th>Make</th>\n",
       "      <th>Model</th>\n",
       "      <th>Electric Vehicle Type</th>\n",
       "      <th>Clean Alternative Fuel Vehicle (CAFV) Eligibility</th>\n",
       "      <th>Electric Range</th>\n",
       "      <th>Base MSRP</th>\n",
       "      <th>Legislative District</th>\n",
       "      <th>DOL Vehicle ID</th>\n",
       "      <th>Vehicle Location</th>\n",
       "      <th>Electric Utility</th>\n",
       "      <th>2020 Census Tract</th>\n",
       "    </tr>\n",
       "  </thead>\n",
       "  <tbody>\n",
       "    <tr>\n",
       "      <th>0</th>\n",
       "      <td>5UXTA6C03P</td>\n",
       "      <td>King</td>\n",
       "      <td>Seattle</td>\n",
       "      <td>WA</td>\n",
       "      <td>98177.0</td>\n",
       "      <td>2023</td>\n",
       "      <td>BMW</td>\n",
       "      <td>X5</td>\n",
       "      <td>Plug-in Hybrid Electric Vehicle (PHEV)</td>\n",
       "      <td>Clean Alternative Fuel Vehicle Eligible</td>\n",
       "      <td>30</td>\n",
       "      <td>0</td>\n",
       "      <td>36.0</td>\n",
       "      <td>218985539</td>\n",
       "      <td>POINT (-122.38242499999996 47.77279000000004)</td>\n",
       "      <td>CITY OF SEATTLE - (WA)|CITY OF TACOMA - (WA)</td>\n",
       "      <td>5.303300e+10</td>\n",
       "    </tr>\n",
       "    <tr>\n",
       "      <th>1</th>\n",
       "      <td>1FMCU0EZXN</td>\n",
       "      <td>Yakima</td>\n",
       "      <td>Moxee</td>\n",
       "      <td>WA</td>\n",
       "      <td>98936.0</td>\n",
       "      <td>2022</td>\n",
       "      <td>FORD</td>\n",
       "      <td>ESCAPE</td>\n",
       "      <td>Plug-in Hybrid Electric Vehicle (PHEV)</td>\n",
       "      <td>Clean Alternative Fuel Vehicle Eligible</td>\n",
       "      <td>38</td>\n",
       "      <td>0</td>\n",
       "      <td>15.0</td>\n",
       "      <td>197264322</td>\n",
       "      <td>POINT (-120.37951169999997 46.55609000000004)</td>\n",
       "      <td>PACIFICORP</td>\n",
       "      <td>5.307700e+10</td>\n",
       "    </tr>\n",
       "  </tbody>\n",
       "</table>\n",
       "</div>"
      ],
      "text/plain": [
       "   VIN (1-10)  County     City State  Postal Code  Model Year  Make   Model  \\\n",
       "0  5UXTA6C03P    King  Seattle    WA      98177.0        2023   BMW      X5   \n",
       "1  1FMCU0EZXN  Yakima    Moxee    WA      98936.0        2022  FORD  ESCAPE   \n",
       "\n",
       "                    Electric Vehicle Type  \\\n",
       "0  Plug-in Hybrid Electric Vehicle (PHEV)   \n",
       "1  Plug-in Hybrid Electric Vehicle (PHEV)   \n",
       "\n",
       "  Clean Alternative Fuel Vehicle (CAFV) Eligibility  Electric Range  \\\n",
       "0           Clean Alternative Fuel Vehicle Eligible              30   \n",
       "1           Clean Alternative Fuel Vehicle Eligible              38   \n",
       "\n",
       "   Base MSRP  Legislative District  DOL Vehicle ID  \\\n",
       "0          0                  36.0       218985539   \n",
       "1          0                  15.0       197264322   \n",
       "\n",
       "                                Vehicle Location  \\\n",
       "0  POINT (-122.38242499999996 47.77279000000004)   \n",
       "1  POINT (-120.37951169999997 46.55609000000004)   \n",
       "\n",
       "                               Electric Utility  2020 Census Tract  \n",
       "0  CITY OF SEATTLE - (WA)|CITY OF TACOMA - (WA)       5.303300e+10  \n",
       "1                                    PACIFICORP       5.307700e+10  "
      ]
     },
     "execution_count": 2,
     "metadata": {},
     "output_type": "execute_result"
    }
   ],
   "source": [
    "df1 = pd.read_csv(r\"asserts\\Electric_Vehicle_Population_Data.csv\")\n",
    "df1.head(2)"
   ]
  },
  {
   "cell_type": "code",
   "execution_count": 3,
   "id": "30fbe187",
   "metadata": {},
   "outputs": [
    {
     "data": {
      "text/html": [
       "<div>\n",
       "<style scoped>\n",
       "    .dataframe tbody tr th:only-of-type {\n",
       "        vertical-align: middle;\n",
       "    }\n",
       "\n",
       "    .dataframe tbody tr th {\n",
       "        vertical-align: top;\n",
       "    }\n",
       "\n",
       "    .dataframe thead th {\n",
       "        text-align: right;\n",
       "    }\n",
       "</style>\n",
       "<table border=\"1\" class=\"dataframe\">\n",
       "  <thead>\n",
       "    <tr style=\"text-align: right;\">\n",
       "      <th></th>\n",
       "      <th>Date</th>\n",
       "      <th>County</th>\n",
       "      <th>State</th>\n",
       "      <th>Vehicle Primary Use</th>\n",
       "      <th>Battery Electric Vehicles (BEVs)</th>\n",
       "      <th>Plug-In Hybrid Electric Vehicles (PHEVs)</th>\n",
       "      <th>Electric Vehicle (EV) Total</th>\n",
       "      <th>Non-Electric Vehicle Total</th>\n",
       "      <th>Total Vehicles</th>\n",
       "      <th>Percent Electric Vehicles</th>\n",
       "    </tr>\n",
       "  </thead>\n",
       "  <tbody>\n",
       "    <tr>\n",
       "      <th>0</th>\n",
       "      <td>November 30 2020</td>\n",
       "      <td>St. Mary's</td>\n",
       "      <td>MD</td>\n",
       "      <td>Passenger</td>\n",
       "      <td>1</td>\n",
       "      <td>0</td>\n",
       "      <td>1</td>\n",
       "      <td>215</td>\n",
       "      <td>216</td>\n",
       "      <td>0.46</td>\n",
       "    </tr>\n",
       "    <tr>\n",
       "      <th>1</th>\n",
       "      <td>February 28 2021</td>\n",
       "      <td>Sedgwick</td>\n",
       "      <td>KS</td>\n",
       "      <td>Passenger</td>\n",
       "      <td>1</td>\n",
       "      <td>1</td>\n",
       "      <td>2</td>\n",
       "      <td>89</td>\n",
       "      <td>91</td>\n",
       "      <td>2.20</td>\n",
       "    </tr>\n",
       "  </tbody>\n",
       "</table>\n",
       "</div>"
      ],
      "text/plain": [
       "               Date      County State Vehicle Primary Use  \\\n",
       "0  November 30 2020  St. Mary's    MD           Passenger   \n",
       "1  February 28 2021    Sedgwick    KS           Passenger   \n",
       "\n",
       "   Battery Electric Vehicles (BEVs)  Plug-In Hybrid Electric Vehicles (PHEVs)  \\\n",
       "0                                 1                                         0   \n",
       "1                                 1                                         1   \n",
       "\n",
       "   Electric Vehicle (EV) Total  Non-Electric Vehicle Total  Total Vehicles  \\\n",
       "0                            1                         215             216   \n",
       "1                            2                          89              91   \n",
       "\n",
       "   Percent Electric Vehicles  \n",
       "0                       0.46  \n",
       "1                       2.20  "
      ]
     },
     "execution_count": 3,
     "metadata": {},
     "output_type": "execute_result"
    }
   ],
   "source": [
    "df2 = pd.read_csv(r\"asserts\\Electric_Vehicle_Population_Size_History_By_County.csv\")\n",
    "df2.head(2)"
   ]
  },
  {
   "cell_type": "markdown",
   "id": "1c7c18dc",
   "metadata": {},
   "source": [
    "# Cleaning"
   ]
  },
  {
   "cell_type": "markdown",
   "id": "eb042e12",
   "metadata": {},
   "source": [
    "### Filter Out Needed Columns and Rows"
   ]
  },
  {
   "cell_type": "code",
   "execution_count": 4,
   "id": "58f4484d",
   "metadata": {},
   "outputs": [],
   "source": [
    "# filter out only Washington and California records\n",
    "df1_wa_ca = df1[df1['State'].isin(['WA', 'CA'])].reset_index(drop=True)\n",
    "df2_wa_ca = df2[df2['State'].isin(['WA', 'CA'])].reset_index(drop=True)"
   ]
  },
  {
   "cell_type": "code",
   "execution_count": 5,
   "id": "6dc86c44",
   "metadata": {},
   "outputs": [],
   "source": [
    "#Select relevant columns for both datasets(Based on insights I want to draw from both datasets)\n",
    "\n",
    "df1_filtered = df1_wa_ca[['State', 'County', 'City', 'Model Year', 'Make',\n",
    "                          'Model', 'Electric Vehicle Type', 'Electric Range', 'Base MSRP']].copy()\n",
    "\n",
    "\n",
    "\n",
    "df2_filtered = df2_wa_ca[['State', 'County', 'Date', 'Electric Vehicle (EV) Total', 'Non-Electric Vehicle Total',\n",
    "                          'Battery Electric Vehicles (BEVs)', 'Plug-In Hybrid Electric Vehicles (PHEVs)']].copy()\n"
   ]
  },
  {
   "cell_type": "code",
   "execution_count": 6,
   "id": "a5337ec4",
   "metadata": {},
   "outputs": [],
   "source": [
    "# Rename specific columns and rearrange columns for both datasets\n",
    "\n",
    "df1_filtered.rename(columns={\n",
    "    'Model Year': 'ModelYear',\n",
    "    'Electric Vehicle Type': 'EVType',\n",
    "    'Electric Range': 'ElectricRange',\n",
    "    'Base MSRP': 'BasePrice'\n",
    "}, inplace=True)\n",
    "\n",
    "\n",
    "df1_filtered = df1_filtered[['State', 'County', 'City', 'Make', 'Model', 'ModelYear', 'EVType', 'ElectricRange', 'BasePrice']]\n",
    "\n",
    "\n",
    "df2_filtered.rename(columns={\n",
    "    'Electric Vehicle (EV) Total': 'EVTotal',\n",
    "    'Non-Electric Vehicle Total': 'NonEVTotal',\n",
    "    'Battery Electric Vehicles (BEVs)': 'BEVCount',\n",
    "    'Plug-In Hybrid Electric Vehicles (PHEVs)': 'PHEVCount'\n",
    "}, inplace=True)\n",
    "\n",
    "\n",
    "df2_filtered = df2_filtered[['Date', 'State', 'County', 'BEVCount', 'PHEVCount', 'EVTotal', 'NonEVTotal']]\n",
    "\n"
   ]
  },
  {
   "cell_type": "markdown",
   "id": "616c9f7a",
   "metadata": {},
   "source": [
    "### Check Filtered Datasets Info"
   ]
  },
  {
   "cell_type": "code",
   "execution_count": 7,
   "id": "b92117f1",
   "metadata": {},
   "outputs": [
    {
     "data": {
      "text/html": [
       "<div>\n",
       "<style scoped>\n",
       "    .dataframe tbody tr th:only-of-type {\n",
       "        vertical-align: middle;\n",
       "    }\n",
       "\n",
       "    .dataframe tbody tr th {\n",
       "        vertical-align: top;\n",
       "    }\n",
       "\n",
       "    .dataframe thead th {\n",
       "        text-align: right;\n",
       "    }\n",
       "</style>\n",
       "<table border=\"1\" class=\"dataframe\">\n",
       "  <thead>\n",
       "    <tr style=\"text-align: right;\">\n",
       "      <th></th>\n",
       "      <th>State</th>\n",
       "      <th>County</th>\n",
       "      <th>City</th>\n",
       "      <th>Make</th>\n",
       "      <th>Model</th>\n",
       "      <th>ModelYear</th>\n",
       "      <th>EVType</th>\n",
       "      <th>ElectricRange</th>\n",
       "      <th>BasePrice</th>\n",
       "    </tr>\n",
       "  </thead>\n",
       "  <tbody>\n",
       "    <tr>\n",
       "      <th>0</th>\n",
       "      <td>WA</td>\n",
       "      <td>King</td>\n",
       "      <td>Seattle</td>\n",
       "      <td>BMW</td>\n",
       "      <td>X5</td>\n",
       "      <td>2023</td>\n",
       "      <td>Plug-in Hybrid Electric Vehicle (PHEV)</td>\n",
       "      <td>30</td>\n",
       "      <td>0</td>\n",
       "    </tr>\n",
       "    <tr>\n",
       "      <th>1</th>\n",
       "      <td>WA</td>\n",
       "      <td>Yakima</td>\n",
       "      <td>Moxee</td>\n",
       "      <td>FORD</td>\n",
       "      <td>ESCAPE</td>\n",
       "      <td>2022</td>\n",
       "      <td>Plug-in Hybrid Electric Vehicle (PHEV)</td>\n",
       "      <td>38</td>\n",
       "      <td>0</td>\n",
       "    </tr>\n",
       "    <tr>\n",
       "      <th>2</th>\n",
       "      <td>WA</td>\n",
       "      <td>King</td>\n",
       "      <td>Seattle</td>\n",
       "      <td>CHEVROLET</td>\n",
       "      <td>BOLT EV</td>\n",
       "      <td>2018</td>\n",
       "      <td>Battery Electric Vehicle (BEV)</td>\n",
       "      <td>238</td>\n",
       "      <td>0</td>\n",
       "    </tr>\n",
       "    <tr>\n",
       "      <th>3</th>\n",
       "      <td>WA</td>\n",
       "      <td>King</td>\n",
       "      <td>Newcastle</td>\n",
       "      <td>TESLA</td>\n",
       "      <td>MODEL S</td>\n",
       "      <td>2013</td>\n",
       "      <td>Battery Electric Vehicle (BEV)</td>\n",
       "      <td>208</td>\n",
       "      <td>69900</td>\n",
       "    </tr>\n",
       "    <tr>\n",
       "      <th>4</th>\n",
       "      <td>WA</td>\n",
       "      <td>Kitsap</td>\n",
       "      <td>Bremerton</td>\n",
       "      <td>FORD</td>\n",
       "      <td>C-MAX</td>\n",
       "      <td>2015</td>\n",
       "      <td>Plug-in Hybrid Electric Vehicle (PHEV)</td>\n",
       "      <td>19</td>\n",
       "      <td>0</td>\n",
       "    </tr>\n",
       "  </tbody>\n",
       "</table>\n",
       "</div>"
      ],
      "text/plain": [
       "  State  County       City       Make    Model  ModelYear  \\\n",
       "0    WA    King    Seattle        BMW       X5       2023   \n",
       "1    WA  Yakima      Moxee       FORD   ESCAPE       2022   \n",
       "2    WA    King    Seattle  CHEVROLET  BOLT EV       2018   \n",
       "3    WA    King  Newcastle      TESLA  MODEL S       2013   \n",
       "4    WA  Kitsap  Bremerton       FORD    C-MAX       2015   \n",
       "\n",
       "                                   EVType  ElectricRange  BasePrice  \n",
       "0  Plug-in Hybrid Electric Vehicle (PHEV)             30          0  \n",
       "1  Plug-in Hybrid Electric Vehicle (PHEV)             38          0  \n",
       "2          Battery Electric Vehicle (BEV)            238          0  \n",
       "3          Battery Electric Vehicle (BEV)            208      69900  \n",
       "4  Plug-in Hybrid Electric Vehicle (PHEV)             19          0  "
      ]
     },
     "execution_count": 7,
     "metadata": {},
     "output_type": "execute_result"
    }
   ],
   "source": [
    "df1_filtered.head()\n"
   ]
  },
  {
   "cell_type": "code",
   "execution_count": 8,
   "id": "661d5b51",
   "metadata": {},
   "outputs": [
    {
     "data": {
      "text/html": [
       "<div>\n",
       "<style scoped>\n",
       "    .dataframe tbody tr th:only-of-type {\n",
       "        vertical-align: middle;\n",
       "    }\n",
       "\n",
       "    .dataframe tbody tr th {\n",
       "        vertical-align: top;\n",
       "    }\n",
       "\n",
       "    .dataframe thead th {\n",
       "        text-align: right;\n",
       "    }\n",
       "</style>\n",
       "<table border=\"1\" class=\"dataframe\">\n",
       "  <thead>\n",
       "    <tr style=\"text-align: right;\">\n",
       "      <th></th>\n",
       "      <th>Date</th>\n",
       "      <th>State</th>\n",
       "      <th>County</th>\n",
       "      <th>BEVCount</th>\n",
       "      <th>PHEVCount</th>\n",
       "      <th>EVTotal</th>\n",
       "      <th>NonEVTotal</th>\n",
       "    </tr>\n",
       "  </thead>\n",
       "  <tbody>\n",
       "    <tr>\n",
       "      <th>0</th>\n",
       "      <td>April 30 2021</td>\n",
       "      <td>WA</td>\n",
       "      <td>Thurston</td>\n",
       "      <td>0</td>\n",
       "      <td>0</td>\n",
       "      <td>0</td>\n",
       "      <td>56710</td>\n",
       "    </tr>\n",
       "    <tr>\n",
       "      <th>1</th>\n",
       "      <td>October 31 2017</td>\n",
       "      <td>WA</td>\n",
       "      <td>Adams</td>\n",
       "      <td>3</td>\n",
       "      <td>3</td>\n",
       "      <td>6</td>\n",
       "      <td>12283</td>\n",
       "    </tr>\n",
       "    <tr>\n",
       "      <th>2</th>\n",
       "      <td>July 31 2018</td>\n",
       "      <td>WA</td>\n",
       "      <td>Whatcom</td>\n",
       "      <td>2</td>\n",
       "      <td>0</td>\n",
       "      <td>2</td>\n",
       "      <td>42313</td>\n",
       "    </tr>\n",
       "    <tr>\n",
       "      <th>3</th>\n",
       "      <td>August 31 2019</td>\n",
       "      <td>WA</td>\n",
       "      <td>Grays Harbor</td>\n",
       "      <td>0</td>\n",
       "      <td>0</td>\n",
       "      <td>0</td>\n",
       "      <td>20570</td>\n",
       "    </tr>\n",
       "    <tr>\n",
       "      <th>4</th>\n",
       "      <td>October 31 2019</td>\n",
       "      <td>WA</td>\n",
       "      <td>Cowlitz</td>\n",
       "      <td>0</td>\n",
       "      <td>0</td>\n",
       "      <td>0</td>\n",
       "      <td>29023</td>\n",
       "    </tr>\n",
       "  </tbody>\n",
       "</table>\n",
       "</div>"
      ],
      "text/plain": [
       "              Date State        County  BEVCount  PHEVCount  EVTotal  \\\n",
       "0    April 30 2021    WA      Thurston         0          0        0   \n",
       "1  October 31 2017    WA         Adams         3          3        6   \n",
       "2     July 31 2018    WA       Whatcom         2          0        2   \n",
       "3   August 31 2019    WA  Grays Harbor         0          0        0   \n",
       "4  October 31 2019    WA       Cowlitz         0          0        0   \n",
       "\n",
       "   NonEVTotal  \n",
       "0       56710  \n",
       "1       12283  \n",
       "2       42313  \n",
       "3       20570  \n",
       "4       29023  "
      ]
     },
     "execution_count": 8,
     "metadata": {},
     "output_type": "execute_result"
    }
   ],
   "source": [
    "df2_filtered.head()"
   ]
  },
  {
   "cell_type": "code",
   "execution_count": 9,
   "id": "af7e5a1b",
   "metadata": {},
   "outputs": [
    {
     "name": "stdout",
     "output_type": "stream",
     "text": [
      "<class 'pandas.core.frame.DataFrame'>\n",
      "RangeIndex: 143359 entries, 0 to 143358\n",
      "Data columns (total 9 columns):\n",
      " #   Column         Non-Null Count   Dtype \n",
      "---  ------         --------------   ----- \n",
      " 0   State          143359 non-null  object\n",
      " 1   County         143357 non-null  object\n",
      " 2   City           143357 non-null  object\n",
      " 3   Make           143359 non-null  object\n",
      " 4   Model          143359 non-null  object\n",
      " 5   ModelYear      143359 non-null  int64 \n",
      " 6   EVType         143359 non-null  object\n",
      " 7   ElectricRange  143359 non-null  int64 \n",
      " 8   BasePrice      143359 non-null  int64 \n",
      "dtypes: int64(3), object(6)\n",
      "memory usage: 9.8+ MB\n",
      "\n",
      "\n",
      "\n",
      "<class 'pandas.core.frame.DataFrame'>\n",
      "RangeIndex: 7543 entries, 0 to 7542\n",
      "Data columns (total 7 columns):\n",
      " #   Column      Non-Null Count  Dtype \n",
      "---  ------      --------------  ----- \n",
      " 0   Date        7543 non-null   object\n",
      " 1   State       7543 non-null   object\n",
      " 2   County      7543 non-null   object\n",
      " 3   BEVCount    7543 non-null   int64 \n",
      " 4   PHEVCount   7543 non-null   int64 \n",
      " 5   EVTotal     7543 non-null   int64 \n",
      " 6   NonEVTotal  7543 non-null   int64 \n",
      "dtypes: int64(4), object(3)\n",
      "memory usage: 412.6+ KB\n"
     ]
    }
   ],
   "source": [
    "df1_filtered.info()\n",
    "print(\"\\n\\n\")\n",
    "df2_filtered.info()"
   ]
  },
  {
   "cell_type": "markdown",
   "id": "8d820caa",
   "metadata": {},
   "source": [
    "### Handling Missing Values for Both Datasets"
   ]
  },
  {
   "cell_type": "code",
   "execution_count": 10,
   "id": "bbe14a2a",
   "metadata": {},
   "outputs": [
    {
     "name": "stdout",
     "output_type": "stream",
     "text": [
      "Missing values in df1_filtered:\n",
      "State            0\n",
      "County           2\n",
      "City             2\n",
      "Make             0\n",
      "Model            0\n",
      "ModelYear        0\n",
      "EVType           0\n",
      "ElectricRange    0\n",
      "BasePrice        0\n",
      "dtype: int64\n"
     ]
    }
   ],
   "source": [
    "# Check missing values for df1_filtered\n",
    "missing_values_df1 = df1_filtered.isna().sum()\n",
    "print(\"Missing values in df1_filtered:\")\n",
    "print(missing_values_df1)\n"
   ]
  },
  {
   "cell_type": "code",
   "execution_count": 11,
   "id": "53fcd8e4",
   "metadata": {},
   "outputs": [
    {
     "name": "stdout",
     "output_type": "stream",
     "text": [
      "Missing values in df2_combined_insights:\n",
      "Date          0\n",
      "State         0\n",
      "County        0\n",
      "BEVCount      0\n",
      "PHEVCount     0\n",
      "EVTotal       0\n",
      "NonEVTotal    0\n",
      "dtype: int64\n"
     ]
    }
   ],
   "source": [
    "# Check missing values for df2_filtered\n",
    "missing_values_df2 = df2_filtered.isna().sum()\n",
    "print(\"Missing values in df2_combined_insights:\")\n",
    "print(missing_values_df2)\n"
   ]
  },
  {
   "cell_type": "code",
   "execution_count": 12,
   "id": "e6a4819b",
   "metadata": {},
   "outputs": [
    {
     "name": "stdout",
     "output_type": "stream",
     "text": [
      "Rows with missing County or City values:\n",
      "       State County City   Make    Model  ModelYear  \\\n",
      "126446    CA    NaN  NaN  TESLA  MODEL 3       2018   \n",
      "136203    CA    NaN  NaN  TESLA  MODEL 3       2022   \n",
      "\n",
      "                                EVType  ElectricRange  BasePrice  \n",
      "126446  Battery Electric Vehicle (BEV)            215          0  \n",
      "136203  Battery Electric Vehicle (BEV)              0          0  \n"
     ]
    }
   ],
   "source": [
    "# Find the rows where 'County' or 'City' is missing in df1_filtered\n",
    "missing_county_or_city = df1_filtered[df1_filtered['County'].isna() | df1_filtered['City'].isna()]\n",
    "\n",
    "print(\"Rows with missing County or City values:\")\n",
    "print(missing_county_or_city)\n"
   ]
  },
  {
   "cell_type": "code",
   "execution_count": 13,
   "id": "af35480d",
   "metadata": {},
   "outputs": [],
   "source": [
    "# Replacing the missing values with a placeholder\n",
    "df1_filtered.fillna({'County': 'Unknown', 'City': 'Unknown'}, inplace=True)\n"
   ]
  },
  {
   "cell_type": "markdown",
   "id": "1fcf6cea",
   "metadata": {},
   "source": [
    "### Data Type Conversion"
   ]
  },
  {
   "cell_type": "code",
   "execution_count": 14,
   "id": "ab770dcd",
   "metadata": {},
   "outputs": [],
   "source": [
    "df2_filtered['Date'] = pd.to_datetime(df2_filtered['Date'])\n"
   ]
  },
  {
   "cell_type": "markdown",
   "id": "a48d3db5",
   "metadata": {},
   "source": [
    "# Transforming "
   ]
  },
  {
   "cell_type": "markdown",
   "id": "183805cc",
   "metadata": {},
   "source": [
    "### Rename the Values in \"EVType\" Column"
   ]
  },
  {
   "cell_type": "code",
   "execution_count": 17,
   "id": "a9d39173",
   "metadata": {},
   "outputs": [
    {
     "name": "stdout",
     "output_type": "stream",
     "text": [
      "BEV     110716\n",
      "PHEV     32643\n",
      "Name: EVType, dtype: int64\n"
     ]
    }
   ],
   "source": [
    "#checking the EVType value counts\n",
    "print(df1_filtered[\"EVType\"].value_counts())\n",
    "\n",
    "\n",
    "df1_filtered['EVType'] = df1_filtered['EVType'].replace({\n",
    "    'Battery Electric Vehicle (BEV)': 'BEV',\n",
    "    'Plug-in Hybrid Electric Vehicle (PHEV)': 'PHEV'\n",
    "})\n"
   ]
  },
  {
   "cell_type": "markdown",
   "id": "f26af8dd",
   "metadata": {},
   "source": [
    "### Checking Both Datasets for Merging "
   ]
  },
  {
   "cell_type": "code",
   "execution_count": 21,
   "id": "6d546402",
   "metadata": {},
   "outputs": [],
   "source": [
    "# Filter the datasets for each state\n",
    "df1_wa = df1_filtered[df1_filtered['State'] == 'WA']\n",
    "df1_ca = df1_filtered[df1_filtered['State'] == 'CA']\n",
    "\n",
    "df2_wa = df2_filtered[df2_filtered['State'] == 'WA']\n",
    "df2_ca = df2_filtered[df2_filtered['State'] == 'CA']\n",
    "\n",
    "#Get the unique counties for each state in both datasets\n",
    "unique_counties_df1_wa = df1_wa['County'].unique()\n",
    "unique_counties_df1_ca = df1_ca['County'].unique()\n",
    "\n",
    "unique_counties_df2_wa = df2_wa['County'].unique()\n",
    "unique_counties_df2_ca = df2_ca['County'].unique()"
   ]
  },
  {
   "cell_type": "code",
   "execution_count": 23,
   "id": "a66ff1a3",
   "metadata": {},
   "outputs": [
    {
     "name": "stdout",
     "output_type": "stream",
     "text": [
      "Common counties in WA: {'Skamania', 'Okanogan', 'Thurston', 'Kitsap', 'Clallam', 'Grant', 'Yakima', 'Klickitat', 'Adams', 'Douglas', 'San Juan', 'Jefferson', 'Franklin', 'Garfield', 'Benton', 'Lincoln', 'Kittitas', 'Ferry', 'Stevens', 'Asotin', 'Spokane', 'Snohomish', 'Columbia', 'Skagit', 'Whitman', 'Pacific', 'King', 'Island', 'Walla Walla', 'Wahkiakum', 'Lewis', 'Grays Harbor', 'Chelan', 'Pierce', 'Clark', 'Pend Oreille', 'Mason', 'Cowlitz', 'Whatcom'}\n",
      "Counties only in df1 for WA: set()\n",
      "Counties only in df2 for WA: set()\n"
     ]
    }
   ],
   "source": [
    "#Compare the unique counties to see if they match:\n",
    "#For WA \n",
    "common_counties_wa = set(unique_counties_df1_wa).intersection(set(unique_counties_df2_wa))\n",
    "only_in_df1_wa = set(unique_counties_df1_wa) - set(unique_counties_df2_wa)\n",
    "only_in_df2_wa = set(unique_counties_df2_wa) - set(unique_counties_df1_wa)\n",
    "\n",
    "print(\"Common counties in WA:\", common_counties_wa)\n",
    "print(\"Counties only in df1 for WA:\", only_in_df1_wa)\n",
    "print(\"Counties only in df2 for WA:\", only_in_df2_wa)\n"
   ]
  },
  {
   "cell_type": "code",
   "execution_count": 24,
   "id": "fa094800",
   "metadata": {},
   "outputs": [
    {
     "name": "stdout",
     "output_type": "stream",
     "text": [
      "Common counties in CA: {'Kern', 'Santa Cruz', 'San Bernardino', 'Orange', 'Napa', 'Kings', 'Marin', 'Sacramento', 'Monterey', 'Sonoma', 'Ventura', 'Santa Clara', 'Alameda', 'Riverside', 'Solano', 'Contra Costa', 'Placer', 'Los Angeles', 'Santa Barbara', 'San Diego'}\n",
      "Counties only in df1 for CA: {'Unknown'}\n",
      "Counties only in df2 for CA: {'San Mateo', 'San Luis Obispo', 'San Francisco', 'Fresno', 'Shasta', 'Tuolumne', 'San Joaquin', 'El Dorado', 'Tulare'}\n"
     ]
    }
   ],
   "source": [
    "#For CA\n",
    "common_counties_ca = set(unique_counties_df1_ca).intersection(set(unique_counties_df2_ca))\n",
    "only_in_df1_ca = set(unique_counties_df1_ca) - set(unique_counties_df2_ca)\n",
    "only_in_df2_ca = set(unique_counties_df2_ca) - set(unique_counties_df1_ca)\n",
    "\n",
    "print(\"Common counties in CA:\", common_counties_ca)\n",
    "print(\"Counties only in df1 for CA:\", only_in_df1_ca)\n",
    "print(\"Counties only in df2 for CA:\", only_in_df2_ca)\n"
   ]
  },
  {
   "cell_type": "markdown",
   "id": "d172dae2",
   "metadata": {},
   "source": [
    "## Insight One:"
   ]
  },
  {
   "cell_type": "markdown",
   "id": "ccaa8791",
   "metadata": {},
   "source": [
    "Adoption Rates and Geographic Distribution \n",
    "\n",
    "Big question:  How is EV adoption distributed across Washington and California, both geographically and by time?\n",
    "\n",
    "To answer the big question, below are several helper questions."
   ]
  },
  {
   "cell_type": "markdown",
   "id": "40dde1f8",
   "metadata": {},
   "source": [
    "### To Answer Question One (merge both datasets):"
   ]
  },
  {
   "cell_type": "markdown",
   "id": "6a2b59bd",
   "metadata": {},
   "source": [
    "Which county in WA has seen the most significant growth in EV adoption over a specific time period?"
   ]
  },
  {
   "cell_type": "code",
   "execution_count": 28,
   "id": "31860de8",
   "metadata": {},
   "outputs": [],
   "source": [
    "#To get the number of EVs registered in each county for each time period (ModelYear).\n",
    "df1_wa_agg = df1_wa.groupby(['County', 'ModelYear']).agg({\n",
    "    'Make': 'count',\n",
    "}).reset_index().rename(columns={'Make': 'NumOfEVs'})\n"
   ]
  },
  {
   "cell_type": "code",
   "execution_count": 29,
   "id": "8495eb67",
   "metadata": {},
   "outputs": [
    {
     "data": {
      "text/html": [
       "<div>\n",
       "<style scoped>\n",
       "    .dataframe tbody tr th:only-of-type {\n",
       "        vertical-align: middle;\n",
       "    }\n",
       "\n",
       "    .dataframe tbody tr th {\n",
       "        vertical-align: top;\n",
       "    }\n",
       "\n",
       "    .dataframe thead th {\n",
       "        text-align: right;\n",
       "    }\n",
       "</style>\n",
       "<table border=\"1\" class=\"dataframe\">\n",
       "  <thead>\n",
       "    <tr style=\"text-align: right;\">\n",
       "      <th></th>\n",
       "      <th>County</th>\n",
       "      <th>ModelYear</th>\n",
       "      <th>NumOfEVs</th>\n",
       "    </tr>\n",
       "  </thead>\n",
       "  <tbody>\n",
       "    <tr>\n",
       "      <th>0</th>\n",
       "      <td>Adams</td>\n",
       "      <td>2011</td>\n",
       "      <td>1</td>\n",
       "    </tr>\n",
       "    <tr>\n",
       "      <th>1</th>\n",
       "      <td>Adams</td>\n",
       "      <td>2012</td>\n",
       "      <td>2</td>\n",
       "    </tr>\n",
       "    <tr>\n",
       "      <th>2</th>\n",
       "      <td>Adams</td>\n",
       "      <td>2014</td>\n",
       "      <td>2</td>\n",
       "    </tr>\n",
       "    <tr>\n",
       "      <th>3</th>\n",
       "      <td>Adams</td>\n",
       "      <td>2015</td>\n",
       "      <td>2</td>\n",
       "    </tr>\n",
       "    <tr>\n",
       "      <th>4</th>\n",
       "      <td>Adams</td>\n",
       "      <td>2016</td>\n",
       "      <td>1</td>\n",
       "    </tr>\n",
       "  </tbody>\n",
       "</table>\n",
       "</div>"
      ],
      "text/plain": [
       "  County  ModelYear  NumOfEVs\n",
       "0  Adams       2011         1\n",
       "1  Adams       2012         2\n",
       "2  Adams       2014         2\n",
       "3  Adams       2015         2\n",
       "4  Adams       2016         1"
      ]
     },
     "execution_count": 29,
     "metadata": {},
     "output_type": "execute_result"
    }
   ],
   "source": [
    "df1_wa_agg.head()"
   ]
  },
  {
   "cell_type": "code",
   "execution_count": 30,
   "id": "af9e3db6",
   "metadata": {},
   "outputs": [],
   "source": [
    "#To get  the EVTotal in each county for each date\n",
    "df2_wa_agg = df2_wa.groupby(['County', 'Date']).agg({\n",
    "    'EVTotal': 'sum',  \n",
    "}).reset_index()\n",
    "\n"
   ]
  },
  {
   "cell_type": "code",
   "execution_count": 31,
   "id": "a61bd27b",
   "metadata": {},
   "outputs": [
    {
     "data": {
      "text/html": [
       "<div>\n",
       "<style scoped>\n",
       "    .dataframe tbody tr th:only-of-type {\n",
       "        vertical-align: middle;\n",
       "    }\n",
       "\n",
       "    .dataframe tbody tr th {\n",
       "        vertical-align: top;\n",
       "    }\n",
       "\n",
       "    .dataframe thead th {\n",
       "        text-align: right;\n",
       "    }\n",
       "</style>\n",
       "<table border=\"1\" class=\"dataframe\">\n",
       "  <thead>\n",
       "    <tr style=\"text-align: right;\">\n",
       "      <th></th>\n",
       "      <th>County</th>\n",
       "      <th>Date</th>\n",
       "      <th>EVTotal</th>\n",
       "    </tr>\n",
       "  </thead>\n",
       "  <tbody>\n",
       "    <tr>\n",
       "      <th>0</th>\n",
       "      <td>Adams</td>\n",
       "      <td>2017-01-31</td>\n",
       "      <td>2</td>\n",
       "    </tr>\n",
       "    <tr>\n",
       "      <th>1</th>\n",
       "      <td>Adams</td>\n",
       "      <td>2017-02-28</td>\n",
       "      <td>4</td>\n",
       "    </tr>\n",
       "    <tr>\n",
       "      <th>2</th>\n",
       "      <td>Adams</td>\n",
       "      <td>2017-03-31</td>\n",
       "      <td>6</td>\n",
       "    </tr>\n",
       "    <tr>\n",
       "      <th>3</th>\n",
       "      <td>Adams</td>\n",
       "      <td>2017-04-30</td>\n",
       "      <td>5</td>\n",
       "    </tr>\n",
       "    <tr>\n",
       "      <th>4</th>\n",
       "      <td>Adams</td>\n",
       "      <td>2017-05-31</td>\n",
       "      <td>5</td>\n",
       "    </tr>\n",
       "  </tbody>\n",
       "</table>\n",
       "</div>"
      ],
      "text/plain": [
       "  County       Date  EVTotal\n",
       "0  Adams 2017-01-31        2\n",
       "1  Adams 2017-02-28        4\n",
       "2  Adams 2017-03-31        6\n",
       "3  Adams 2017-04-30        5\n",
       "4  Adams 2017-05-31        5"
      ]
     },
     "execution_count": 31,
     "metadata": {},
     "output_type": "execute_result"
    }
   ],
   "source": [
    "df2_wa_agg.head()"
   ]
  },
  {
   "cell_type": "code",
   "execution_count": 32,
   "id": "4fca2e5d",
   "metadata": {},
   "outputs": [],
   "source": [
    "#Merge df1_wa_agg and df2_wa_agg on the \"County\"\n",
    "df_wa_merged = pd.merge(df1_wa_agg, df2_wa_agg, on='County', how='inner')\n"
   ]
  },
  {
   "cell_type": "code",
   "execution_count": 33,
   "id": "63226be9",
   "metadata": {},
   "outputs": [
    {
     "data": {
      "text/html": [
       "<div>\n",
       "<style scoped>\n",
       "    .dataframe tbody tr th:only-of-type {\n",
       "        vertical-align: middle;\n",
       "    }\n",
       "\n",
       "    .dataframe tbody tr th {\n",
       "        vertical-align: top;\n",
       "    }\n",
       "\n",
       "    .dataframe thead th {\n",
       "        text-align: right;\n",
       "    }\n",
       "</style>\n",
       "<table border=\"1\" class=\"dataframe\">\n",
       "  <thead>\n",
       "    <tr style=\"text-align: right;\">\n",
       "      <th></th>\n",
       "      <th>County</th>\n",
       "      <th>ModelYear</th>\n",
       "      <th>NumOfEVs</th>\n",
       "      <th>Date</th>\n",
       "      <th>EVTotal</th>\n",
       "    </tr>\n",
       "  </thead>\n",
       "  <tbody>\n",
       "    <tr>\n",
       "      <th>0</th>\n",
       "      <td>Adams</td>\n",
       "      <td>2011</td>\n",
       "      <td>1</td>\n",
       "      <td>2017-01-31</td>\n",
       "      <td>2</td>\n",
       "    </tr>\n",
       "    <tr>\n",
       "      <th>1</th>\n",
       "      <td>Adams</td>\n",
       "      <td>2011</td>\n",
       "      <td>1</td>\n",
       "      <td>2017-02-28</td>\n",
       "      <td>4</td>\n",
       "    </tr>\n",
       "    <tr>\n",
       "      <th>2</th>\n",
       "      <td>Adams</td>\n",
       "      <td>2011</td>\n",
       "      <td>1</td>\n",
       "      <td>2017-03-31</td>\n",
       "      <td>6</td>\n",
       "    </tr>\n",
       "    <tr>\n",
       "      <th>3</th>\n",
       "      <td>Adams</td>\n",
       "      <td>2011</td>\n",
       "      <td>1</td>\n",
       "      <td>2017-04-30</td>\n",
       "      <td>5</td>\n",
       "    </tr>\n",
       "    <tr>\n",
       "      <th>4</th>\n",
       "      <td>Adams</td>\n",
       "      <td>2011</td>\n",
       "      <td>1</td>\n",
       "      <td>2017-05-31</td>\n",
       "      <td>5</td>\n",
       "    </tr>\n",
       "  </tbody>\n",
       "</table>\n",
       "</div>"
      ],
      "text/plain": [
       "  County  ModelYear  NumOfEVs       Date  EVTotal\n",
       "0  Adams       2011         1 2017-01-31        2\n",
       "1  Adams       2011         1 2017-02-28        4\n",
       "2  Adams       2011         1 2017-03-31        6\n",
       "3  Adams       2011         1 2017-04-30        5\n",
       "4  Adams       2011         1 2017-05-31        5"
      ]
     },
     "execution_count": 33,
     "metadata": {},
     "output_type": "execute_result"
    }
   ],
   "source": [
    "df_wa_merged.head()"
   ]
  },
  {
   "cell_type": "markdown",
   "id": "09309ba9",
   "metadata": {},
   "source": [
    "### For Shen: Now this is the dataset you can analysis to answer the above question. "
   ]
  },
  {
   "cell_type": "markdown",
   "id": "bb670303",
   "metadata": {},
   "source": [
    "we can compare specific time period here. First, we can see which county in (2017) has significant growth, then change to a different time period(2022)."
   ]
  },
  {
   "cell_type": "markdown",
   "id": "99f03990",
   "metadata": {},
   "source": [
    "### To Answer Question Two (Dataset 2):"
   ]
  },
  {
   "cell_type": "markdown",
   "id": "a868029d",
   "metadata": {},
   "source": [
    "How do different types of EV (BEV vs PHEV) fare in different counties in WA and CA?"
   ]
  },
  {
   "cell_type": "code",
   "execution_count": 36,
   "id": "a1448243",
   "metadata": {},
   "outputs": [
    {
     "name": "stderr",
     "output_type": "stream",
     "text": [
      "C:\\Users\\qfu88\\AppData\\Local\\Temp\\ipykernel_33544\\918321979.py:5: SettingWithCopyWarning: \n",
      "A value is trying to be set on a copy of a slice from a DataFrame.\n",
      "Try using .loc[row_indexer,col_indexer] = value instead\n",
      "\n",
      "See the caveats in the documentation: https://pandas.pydata.org/pandas-docs/stable/user_guide/indexing.html#returning-a-view-versus-a-copy\n",
      "  df2_wa['Year'] = df2_wa['Date'].dt.year\n"
     ]
    }
   ],
   "source": [
    "#To get the number of eah type of vehicle group by county(WA) and date(yearly)\n",
    "\n",
    "#get \"year\" column\n",
    "\n",
    "df2_wa['Year'] = df2_wa['Date'].dt.year\n",
    "\n",
    "df2_wa_yearly = df2_wa.groupby(['County', 'Year']).agg({\n",
    "    'BEVCount': 'sum',\n",
    "    'PHEVCount': 'sum',\n",
    "    'EVTotal': 'sum',\n",
    "    'NonEVTotal': 'sum'\n",
    "}).reset_index()\n"
   ]
  },
  {
   "cell_type": "code",
   "execution_count": 37,
   "id": "7f543c0f",
   "metadata": {},
   "outputs": [
    {
     "data": {
      "text/html": [
       "<div>\n",
       "<style scoped>\n",
       "    .dataframe tbody tr th:only-of-type {\n",
       "        vertical-align: middle;\n",
       "    }\n",
       "\n",
       "    .dataframe tbody tr th {\n",
       "        vertical-align: top;\n",
       "    }\n",
       "\n",
       "    .dataframe thead th {\n",
       "        text-align: right;\n",
       "    }\n",
       "</style>\n",
       "<table border=\"1\" class=\"dataframe\">\n",
       "  <thead>\n",
       "    <tr style=\"text-align: right;\">\n",
       "      <th></th>\n",
       "      <th>County</th>\n",
       "      <th>Year</th>\n",
       "      <th>BEVCount</th>\n",
       "      <th>PHEVCount</th>\n",
       "      <th>EVTotal</th>\n",
       "      <th>NonEVTotal</th>\n",
       "    </tr>\n",
       "  </thead>\n",
       "  <tbody>\n",
       "    <tr>\n",
       "      <th>0</th>\n",
       "      <td>Adams</td>\n",
       "      <td>2017</td>\n",
       "      <td>30</td>\n",
       "      <td>38</td>\n",
       "      <td>68</td>\n",
       "      <td>207838</td>\n",
       "    </tr>\n",
       "    <tr>\n",
       "      <th>1</th>\n",
       "      <td>Adams</td>\n",
       "      <td>2018</td>\n",
       "      <td>59</td>\n",
       "      <td>57</td>\n",
       "      <td>116</td>\n",
       "      <td>213190</td>\n",
       "    </tr>\n",
       "    <tr>\n",
       "      <th>2</th>\n",
       "      <td>Adams</td>\n",
       "      <td>2019</td>\n",
       "      <td>61</td>\n",
       "      <td>72</td>\n",
       "      <td>133</td>\n",
       "      <td>215174</td>\n",
       "    </tr>\n",
       "    <tr>\n",
       "      <th>3</th>\n",
       "      <td>Adams</td>\n",
       "      <td>2020</td>\n",
       "      <td>99</td>\n",
       "      <td>83</td>\n",
       "      <td>182</td>\n",
       "      <td>217697</td>\n",
       "    </tr>\n",
       "    <tr>\n",
       "      <th>4</th>\n",
       "      <td>Adams</td>\n",
       "      <td>2021</td>\n",
       "      <td>165</td>\n",
       "      <td>130</td>\n",
       "      <td>295</td>\n",
       "      <td>221049</td>\n",
       "    </tr>\n",
       "  </tbody>\n",
       "</table>\n",
       "</div>"
      ],
      "text/plain": [
       "  County  Year  BEVCount  PHEVCount  EVTotal  NonEVTotal\n",
       "0  Adams  2017        30         38       68      207838\n",
       "1  Adams  2018        59         57      116      213190\n",
       "2  Adams  2019        61         72      133      215174\n",
       "3  Adams  2020        99         83      182      217697\n",
       "4  Adams  2021       165        130      295      221049"
      ]
     },
     "execution_count": 37,
     "metadata": {},
     "output_type": "execute_result"
    }
   ],
   "source": [
    "df2_wa_yearly.head()"
   ]
  },
  {
   "cell_type": "code",
   "execution_count": 39,
   "id": "2a32ea78",
   "metadata": {},
   "outputs": [
    {
     "name": "stderr",
     "output_type": "stream",
     "text": [
      "C:\\Users\\qfu88\\AppData\\Local\\Temp\\ipykernel_33544\\2158458783.py:2: SettingWithCopyWarning: \n",
      "A value is trying to be set on a copy of a slice from a DataFrame.\n",
      "Try using .loc[row_indexer,col_indexer] = value instead\n",
      "\n",
      "See the caveats in the documentation: https://pandas.pydata.org/pandas-docs/stable/user_guide/indexing.html#returning-a-view-versus-a-copy\n",
      "  df2_ca['Year'] = df2_ca['Date'].dt.year\n"
     ]
    }
   ],
   "source": [
    "#To get the number of eah type of vehicle group by county(CA) and date(yearly)\n",
    "df2_ca['Year'] = df2_ca['Date'].dt.year\n",
    "\n",
    "df2_ca_yearly = df2_ca.groupby(['County', 'Year']).agg({\n",
    "    'BEVCount': 'sum',\n",
    "    'PHEVCount': 'sum',\n",
    "    'EVTotal': 'sum',\n",
    "    'NonEVTotal': 'sum'\n",
    "}).reset_index()\n"
   ]
  },
  {
   "cell_type": "code",
   "execution_count": 40,
   "id": "8fe0e416",
   "metadata": {},
   "outputs": [
    {
     "data": {
      "text/html": [
       "<div>\n",
       "<style scoped>\n",
       "    .dataframe tbody tr th:only-of-type {\n",
       "        vertical-align: middle;\n",
       "    }\n",
       "\n",
       "    .dataframe tbody tr th {\n",
       "        vertical-align: top;\n",
       "    }\n",
       "\n",
       "    .dataframe thead th {\n",
       "        text-align: right;\n",
       "    }\n",
       "</style>\n",
       "<table border=\"1\" class=\"dataframe\">\n",
       "  <thead>\n",
       "    <tr style=\"text-align: right;\">\n",
       "      <th></th>\n",
       "      <th>County</th>\n",
       "      <th>Year</th>\n",
       "      <th>BEVCount</th>\n",
       "      <th>PHEVCount</th>\n",
       "      <th>EVTotal</th>\n",
       "      <th>NonEVTotal</th>\n",
       "    </tr>\n",
       "  </thead>\n",
       "  <tbody>\n",
       "    <tr>\n",
       "      <th>0</th>\n",
       "      <td>Alameda</td>\n",
       "      <td>2017</td>\n",
       "      <td>17</td>\n",
       "      <td>12</td>\n",
       "      <td>29</td>\n",
       "      <td>4411</td>\n",
       "    </tr>\n",
       "    <tr>\n",
       "      <th>1</th>\n",
       "      <td>Alameda</td>\n",
       "      <td>2018</td>\n",
       "      <td>0</td>\n",
       "      <td>16</td>\n",
       "      <td>16</td>\n",
       "      <td>4114</td>\n",
       "    </tr>\n",
       "    <tr>\n",
       "      <th>2</th>\n",
       "      <td>Alameda</td>\n",
       "      <td>2019</td>\n",
       "      <td>41</td>\n",
       "      <td>19</td>\n",
       "      <td>60</td>\n",
       "      <td>3647</td>\n",
       "    </tr>\n",
       "    <tr>\n",
       "      <th>3</th>\n",
       "      <td>Alameda</td>\n",
       "      <td>2020</td>\n",
       "      <td>31</td>\n",
       "      <td>5</td>\n",
       "      <td>36</td>\n",
       "      <td>3230</td>\n",
       "    </tr>\n",
       "    <tr>\n",
       "      <th>4</th>\n",
       "      <td>Alameda</td>\n",
       "      <td>2021</td>\n",
       "      <td>42</td>\n",
       "      <td>0</td>\n",
       "      <td>42</td>\n",
       "      <td>2791</td>\n",
       "    </tr>\n",
       "  </tbody>\n",
       "</table>\n",
       "</div>"
      ],
      "text/plain": [
       "    County  Year  BEVCount  PHEVCount  EVTotal  NonEVTotal\n",
       "0  Alameda  2017        17         12       29        4411\n",
       "1  Alameda  2018         0         16       16        4114\n",
       "2  Alameda  2019        41         19       60        3647\n",
       "3  Alameda  2020        31          5       36        3230\n",
       "4  Alameda  2021        42          0       42        2791"
      ]
     },
     "execution_count": 40,
     "metadata": {},
     "output_type": "execute_result"
    }
   ],
   "source": [
    "df2_ca_yearly.head()"
   ]
  },
  {
   "cell_type": "markdown",
   "id": "ed676a5c",
   "metadata": {},
   "source": [
    "### Datasets with All States"
   ]
  },
  {
   "cell_type": "code",
   "execution_count": 44,
   "id": "f485a39f",
   "metadata": {},
   "outputs": [],
   "source": [
    "df_all = df2[['State', 'County', 'Date', 'Electric Vehicle (EV) Total', 'Non-Electric Vehicle Total',\n",
    "                          'Battery Electric Vehicles (BEVs)', 'Plug-In Hybrid Electric Vehicles (PHEVs)']].copy()\n",
    "\n",
    "#Rename and Rearrange columns\n",
    "df_all.rename(columns={\n",
    "    'Electric Vehicle (EV) Total': 'EVTotal',\n",
    "    'Non-Electric Vehicle Total': 'NonEVTotal',\n",
    "    'Battery Electric Vehicles (BEVs)': 'BEVCount',\n",
    "    'Plug-In Hybrid Electric Vehicles (PHEVs)': 'PHEVCount'\n",
    "}, inplace=True)\n",
    "\n",
    "\n",
    "df_all = df_all[['Date', 'State', 'County', 'BEVCount', 'PHEVCount', 'EVTotal', 'NonEVTotal']]\n",
    "\n",
    "df_all['Date'] = pd.to_datetime(df_all['Date'])\n",
    "\n",
    "df_all.dropna(inplace=True)\n"
   ]
  },
  {
   "cell_type": "code",
   "execution_count": 52,
   "id": "3d4e14f9",
   "metadata": {},
   "outputs": [],
   "source": [
    "df_all['Year'] = df_all['Date'].dt.year\n",
    "\n",
    "\n",
    "df_all_yearly = df_all.groupby(['Year', 'State']).agg({\n",
    "    'BEVCount': 'sum',\n",
    "    'PHEVCount': 'sum',\n",
    "    'EVTotal': 'sum',\n",
    "    'NonEVTotal': 'sum'\n",
    "}).reset_index()\n"
   ]
  },
  {
   "cell_type": "code",
   "execution_count": 53,
   "id": "aed6fe31",
   "metadata": {},
   "outputs": [
    {
     "data": {
      "text/html": [
       "<div>\n",
       "<style scoped>\n",
       "    .dataframe tbody tr th:only-of-type {\n",
       "        vertical-align: middle;\n",
       "    }\n",
       "\n",
       "    .dataframe tbody tr th {\n",
       "        vertical-align: top;\n",
       "    }\n",
       "\n",
       "    .dataframe thead th {\n",
       "        text-align: right;\n",
       "    }\n",
       "</style>\n",
       "<table border=\"1\" class=\"dataframe\">\n",
       "  <thead>\n",
       "    <tr style=\"text-align: right;\">\n",
       "      <th></th>\n",
       "      <th>Year</th>\n",
       "      <th>State</th>\n",
       "      <th>BEVCount</th>\n",
       "      <th>PHEVCount</th>\n",
       "      <th>EVTotal</th>\n",
       "      <th>NonEVTotal</th>\n",
       "    </tr>\n",
       "  </thead>\n",
       "  <tbody>\n",
       "    <tr>\n",
       "      <th>0</th>\n",
       "      <td>2017</td>\n",
       "      <td>AK</td>\n",
       "      <td>0</td>\n",
       "      <td>12</td>\n",
       "      <td>12</td>\n",
       "      <td>582</td>\n",
       "    </tr>\n",
       "    <tr>\n",
       "      <th>1</th>\n",
       "      <td>2017</td>\n",
       "      <td>AL</td>\n",
       "      <td>12</td>\n",
       "      <td>12</td>\n",
       "      <td>24</td>\n",
       "      <td>1194</td>\n",
       "    </tr>\n",
       "    <tr>\n",
       "      <th>2</th>\n",
       "      <td>2017</td>\n",
       "      <td>AZ</td>\n",
       "      <td>58</td>\n",
       "      <td>20</td>\n",
       "      <td>78</td>\n",
       "      <td>29064</td>\n",
       "    </tr>\n",
       "    <tr>\n",
       "      <th>3</th>\n",
       "      <td>2017</td>\n",
       "      <td>CA</td>\n",
       "      <td>264</td>\n",
       "      <td>148</td>\n",
       "      <td>412</td>\n",
       "      <td>89981</td>\n",
       "    </tr>\n",
       "    <tr>\n",
       "      <th>4</th>\n",
       "      <td>2017</td>\n",
       "      <td>CO</td>\n",
       "      <td>20</td>\n",
       "      <td>6</td>\n",
       "      <td>26</td>\n",
       "      <td>9623</td>\n",
       "    </tr>\n",
       "  </tbody>\n",
       "</table>\n",
       "</div>"
      ],
      "text/plain": [
       "   Year State  BEVCount  PHEVCount  EVTotal  NonEVTotal\n",
       "0  2017    AK         0         12       12         582\n",
       "1  2017    AL        12         12       24        1194\n",
       "2  2017    AZ        58         20       78       29064\n",
       "3  2017    CA       264        148      412       89981\n",
       "4  2017    CO        20          6       26        9623"
      ]
     },
     "execution_count": 53,
     "metadata": {},
     "output_type": "execute_result"
    }
   ],
   "source": [
    "df_all_yearly.head()"
   ]
  },
  {
   "cell_type": "markdown",
   "id": "293b8ad3",
   "metadata": {},
   "source": [
    "### For Shen: use above datasets to answer question2"
   ]
  },
  {
   "cell_type": "markdown",
   "id": "6f4f6fb6",
   "metadata": {},
   "source": [
    "we can do several comparison: BEV and PHEV changing over time in the two states, EVtotal and NonEvtotal  changing over time in the two states.\n",
    "\n",
    "Last dataset, we gonna compare all states!"
   ]
  },
  {
   "cell_type": "markdown",
   "id": "7f48e7ff",
   "metadata": {},
   "source": [
    "### To Answer Question Three (WA Dataset):"
   ]
  },
  {
   "cell_type": "markdown",
   "id": "40022897",
   "metadata": {},
   "source": [
    "How has the Electric Range of EVs influenced adoption (for year 2021) rates in different counties of WA?"
   ]
  },
  {
   "cell_type": "code",
   "execution_count": 59,
   "id": "4ef5d542",
   "metadata": {},
   "outputs": [],
   "source": [
    "# filter out data for 2021\n",
    "df2_wa_2021 = df2_wa[df2_wa['Year'] == 2021]\n",
    "\n",
    "#Aggregate Data by County\n",
    "\n",
    "df2_wa_2021_agg = df2_wa_2021.groupby(['County']).agg({\n",
    "    'BEVCount': 'sum',\n",
    "    'PHEVCount': 'sum',\n",
    "    'EVTotal': 'sum',\n",
    "    'NonEVTotal': 'sum'\n",
    "}).reset_index()\n",
    "\n",
    "\n",
    "\n"
   ]
  },
  {
   "cell_type": "code",
   "execution_count": 61,
   "id": "a4f62eca",
   "metadata": {},
   "outputs": [],
   "source": [
    "#merge with df1_wa based on \"County\"\n",
    "\n",
    "df_wa_merged = pd.merge(df1_wa, df2_wa_2021_agg, on='County', how='inner')"
   ]
  },
  {
   "cell_type": "code",
   "execution_count": 63,
   "id": "c1522ec4",
   "metadata": {},
   "outputs": [],
   "source": [
    "#Group by County and Electric Range, and sum the 'EVTotal', 'BEVCount', 'PHEVCount' to analyze adoption based on range.\n",
    "df_wa_merged_grouped = df_wa_merged.groupby(['County', 'ElectricRange']).agg({\n",
    "    'EVTotal': 'sum',\n",
    "    'BEVCount': 'sum',\n",
    "    'PHEVCount': 'sum'\n",
    "}).reset_index()\n"
   ]
  },
  {
   "cell_type": "code",
   "execution_count": 65,
   "id": "2db4e31e",
   "metadata": {},
   "outputs": [
    {
     "data": {
      "text/html": [
       "<div>\n",
       "<style scoped>\n",
       "    .dataframe tbody tr th:only-of-type {\n",
       "        vertical-align: middle;\n",
       "    }\n",
       "\n",
       "    .dataframe tbody tr th {\n",
       "        vertical-align: top;\n",
       "    }\n",
       "\n",
       "    .dataframe thead th {\n",
       "        text-align: right;\n",
       "    }\n",
       "</style>\n",
       "<table border=\"1\" class=\"dataframe\">\n",
       "  <thead>\n",
       "    <tr style=\"text-align: right;\">\n",
       "      <th></th>\n",
       "      <th>County</th>\n",
       "      <th>ElectricRange</th>\n",
       "      <th>EVTotal</th>\n",
       "      <th>BEVCount</th>\n",
       "      <th>PHEVCount</th>\n",
       "    </tr>\n",
       "  </thead>\n",
       "  <tbody>\n",
       "    <tr>\n",
       "      <th>0</th>\n",
       "      <td>Adams</td>\n",
       "      <td>0</td>\n",
       "      <td>4425</td>\n",
       "      <td>2475</td>\n",
       "      <td>1950</td>\n",
       "    </tr>\n",
       "    <tr>\n",
       "      <th>1</th>\n",
       "      <td>Adams</td>\n",
       "      <td>16</td>\n",
       "      <td>295</td>\n",
       "      <td>165</td>\n",
       "      <td>130</td>\n",
       "    </tr>\n",
       "    <tr>\n",
       "      <th>2</th>\n",
       "      <td>Adams</td>\n",
       "      <td>19</td>\n",
       "      <td>590</td>\n",
       "      <td>330</td>\n",
       "      <td>260</td>\n",
       "    </tr>\n",
       "    <tr>\n",
       "      <th>3</th>\n",
       "      <td>Adams</td>\n",
       "      <td>21</td>\n",
       "      <td>590</td>\n",
       "      <td>330</td>\n",
       "      <td>260</td>\n",
       "    </tr>\n",
       "    <tr>\n",
       "      <th>4</th>\n",
       "      <td>Adams</td>\n",
       "      <td>25</td>\n",
       "      <td>295</td>\n",
       "      <td>165</td>\n",
       "      <td>130</td>\n",
       "    </tr>\n",
       "  </tbody>\n",
       "</table>\n",
       "</div>"
      ],
      "text/plain": [
       "  County  ElectricRange  EVTotal  BEVCount  PHEVCount\n",
       "0  Adams              0     4425      2475       1950\n",
       "1  Adams             16      295       165        130\n",
       "2  Adams             19      590       330        260\n",
       "3  Adams             21      590       330        260\n",
       "4  Adams             25      295       165        130"
      ]
     },
     "execution_count": 65,
     "metadata": {},
     "output_type": "execute_result"
    }
   ],
   "source": [
    "df_wa_merged_grouped.head()"
   ]
  },
  {
   "cell_type": "markdown",
   "id": "988b7339",
   "metadata": {},
   "source": [
    "### For Shen: use the above dataset for question3"
   ]
  },
  {
   "cell_type": "markdown",
   "id": "84b9087e",
   "metadata": {},
   "source": [
    "you can use the 'EVTotal', 'BEVCount', and 'PHEVCount' to approximate the adoption rate for different electric ranges. Then you can analyze whether higher or lower electric ranges are correlated with higher adoption rates.\n",
    "\n",
    "\n",
    "\n",
    "\n",
    "\n"
   ]
  },
  {
   "cell_type": "markdown",
   "id": "9688a0a6",
   "metadata": {},
   "source": [
    "## Insights two:"
   ]
  },
  {
   "cell_type": "markdown",
   "id": "49b30449",
   "metadata": {},
   "source": [
    "Insight 2: Popular Types of Electric Vehicles and their Attributes\n",
    "Big Question: What types of electric vehicles are most popular, and what are their typical characteristics like price range, electric range, etc.?\n",
    "\n",
    "\n",
    "To answer the big question, below are several helper questions."
   ]
  },
  {
   "cell_type": "markdown",
   "id": "a57dd3c2",
   "metadata": {},
   "source": [
    "### To Answer Question one:"
   ]
  },
  {
   "cell_type": "markdown",
   "id": "fceb5a1b",
   "metadata": {},
   "source": [
    "Are there regional preferences for certain types of electric vehicles? For example, are BEVs more popular in urban areas, while PHEVs are preferred in rural areas?"
   ]
  },
  {
   "cell_type": "code",
   "execution_count": 71,
   "id": "cca614f3",
   "metadata": {},
   "outputs": [],
   "source": [
    "#create two datasets(urban dataset and rural dataset)\n",
    "\n",
    "urban_cities = ['Seattle', 'Bellevue', 'Redmond', 'Vancouver', 'San Francisco', 'Palo Alto', 'San Jose']\n",
    "df_urban = df1_filtered[df1_filtered['City'].isin(urban_cities)]\n",
    "\n",
    "rural_counties = ['Kern', 'Sonoma', 'Napa', 'Monterey', 'Santa Barbara', 'Okanogan', 'Stevens', 'Wahkiakum', 'Ferry', 'Pend Oreille', 'Columbia', 'Garfield']\n",
    "df_rural = df1_filtered[df1_filtered['County'].isin(rural_counties)]\n",
    "\n"
   ]
  },
  {
   "cell_type": "markdown",
   "id": "2b3bcc62",
   "metadata": {},
   "source": [
    "### For Shen: above two datasets used for question one"
   ]
  },
  {
   "cell_type": "markdown",
   "id": "62906355",
   "metadata": {},
   "source": [
    "I sliced out some typical cities as urban area, and counties that can consider as rural area. \n",
    "\n",
    "To answer above question, we can just do some exploratory data analysis and statistic tests on these two datasets."
   ]
  },
  {
   "cell_type": "markdown",
   "id": "5a7840c7",
   "metadata": {},
   "source": [
    "### To Answer Question Two:"
   ]
  },
  {
   "cell_type": "markdown",
   "id": "69632fd3",
   "metadata": {},
   "source": [
    "Which makes and models are the most popular in WA and CA?"
   ]
  },
  {
   "cell_type": "code",
   "execution_count": 72,
   "id": "cb5206f0",
   "metadata": {},
   "outputs": [],
   "source": [
    "#group data by make and model\n",
    "popular_makes_models_wa = df1_wa.groupby(['Make', 'Model']).size().reset_index(name='Count').sort_values('Count', ascending=False)\n",
    "popular_makes_models_ca = df1_ca.groupby(['Make', 'Model']).size().reset_index(name='Count').sort_values('Count', ascending=False)\n"
   ]
  },
  {
   "cell_type": "markdown",
   "id": "040315ec",
   "metadata": {},
   "source": [
    "### For Shen: above two datasets used for question one"
   ]
  },
  {
   "cell_type": "markdown",
   "id": "33dfc804",
   "metadata": {},
   "source": [
    "This is easiest one, we can just use these two dataset create bar charts, then interpret the chart"
   ]
  },
  {
   "cell_type": "code",
   "execution_count": null,
   "id": "f69380f8",
   "metadata": {},
   "outputs": [],
   "source": []
  }
 ],
 "metadata": {
  "kernelspec": {
   "display_name": "Python 3 (ipykernel)",
   "language": "python",
   "name": "python3"
  },
  "language_info": {
   "codemirror_mode": {
    "name": "ipython",
    "version": 3
   },
   "file_extension": ".py",
   "mimetype": "text/x-python",
   "name": "python",
   "nbconvert_exporter": "python",
   "pygments_lexer": "ipython3",
   "version": "3.8.13"
  },
  "toc": {
   "base_numbering": 1,
   "nav_menu": {},
   "number_sections": false,
   "sideBar": true,
   "skip_h1_title": false,
   "title_cell": "Table of Contents",
   "title_sidebar": "Contents",
   "toc_cell": false,
   "toc_position": {},
   "toc_section_display": true,
   "toc_window_display": false
  }
 },
 "nbformat": 4,
 "nbformat_minor": 5
}
