{
 "cells": [
  {
   "cell_type": "code",
   "execution_count": 2,
   "id": "86b27638",
   "metadata": {},
   "outputs": [],
   "source": [
    "import pandas as pd\n",
    "import numpy as np\n",
    "import seaborn as sns\n",
    "import matplotlib.pyplot as plt"
   ]
  },
  {
   "cell_type": "markdown",
   "id": "1142990a",
   "metadata": {},
   "source": [
    "### Load Original Datasets"
   ]
  },
  {
   "cell_type": "code",
   "execution_count": 3,
   "id": "30b3a7da",
   "metadata": {},
   "outputs": [
    {
     "data": {
      "text/html": [
       "<div>\n",
       "<style scoped>\n",
       "    .dataframe tbody tr th:only-of-type {\n",
       "        vertical-align: middle;\n",
       "    }\n",
       "\n",
       "    .dataframe tbody tr th {\n",
       "        vertical-align: top;\n",
       "    }\n",
       "\n",
       "    .dataframe thead th {\n",
       "        text-align: right;\n",
       "    }\n",
       "</style>\n",
       "<table border=\"1\" class=\"dataframe\">\n",
       "  <thead>\n",
       "    <tr style=\"text-align: right;\">\n",
       "      <th></th>\n",
       "      <th>VIN (1-10)</th>\n",
       "      <th>County</th>\n",
       "      <th>City</th>\n",
       "      <th>State</th>\n",
       "      <th>Postal Code</th>\n",
       "      <th>Model Year</th>\n",
       "      <th>Make</th>\n",
       "      <th>Model</th>\n",
       "      <th>Electric Vehicle Type</th>\n",
       "      <th>Clean Alternative Fuel Vehicle (CAFV) Eligibility</th>\n",
       "      <th>Electric Range</th>\n",
       "      <th>Base MSRP</th>\n",
       "      <th>Legislative District</th>\n",
       "      <th>DOL Vehicle ID</th>\n",
       "      <th>Vehicle Location</th>\n",
       "      <th>Electric Utility</th>\n",
       "      <th>2020 Census Tract</th>\n",
       "    </tr>\n",
       "  </thead>\n",
       "  <tbody>\n",
       "    <tr>\n",
       "      <th>0</th>\n",
       "      <td>5UXTA6C03P</td>\n",
       "      <td>King</td>\n",
       "      <td>Seattle</td>\n",
       "      <td>WA</td>\n",
       "      <td>98177.0</td>\n",
       "      <td>2023</td>\n",
       "      <td>BMW</td>\n",
       "      <td>X5</td>\n",
       "      <td>Plug-in Hybrid Electric Vehicle (PHEV)</td>\n",
       "      <td>Clean Alternative Fuel Vehicle Eligible</td>\n",
       "      <td>30</td>\n",
       "      <td>0</td>\n",
       "      <td>36.0</td>\n",
       "      <td>218985539</td>\n",
       "      <td>POINT (-122.38242499999996 47.77279000000004)</td>\n",
       "      <td>CITY OF SEATTLE - (WA)|CITY OF TACOMA - (WA)</td>\n",
       "      <td>5.303300e+10</td>\n",
       "    </tr>\n",
       "    <tr>\n",
       "      <th>1</th>\n",
       "      <td>1FMCU0EZXN</td>\n",
       "      <td>Yakima</td>\n",
       "      <td>Moxee</td>\n",
       "      <td>WA</td>\n",
       "      <td>98936.0</td>\n",
       "      <td>2022</td>\n",
       "      <td>FORD</td>\n",
       "      <td>ESCAPE</td>\n",
       "      <td>Plug-in Hybrid Electric Vehicle (PHEV)</td>\n",
       "      <td>Clean Alternative Fuel Vehicle Eligible</td>\n",
       "      <td>38</td>\n",
       "      <td>0</td>\n",
       "      <td>15.0</td>\n",
       "      <td>197264322</td>\n",
       "      <td>POINT (-120.37951169999997 46.55609000000004)</td>\n",
       "      <td>PACIFICORP</td>\n",
       "      <td>5.307700e+10</td>\n",
       "    </tr>\n",
       "  </tbody>\n",
       "</table>\n",
       "</div>"
      ],
      "text/plain": [
       "   VIN (1-10)  County     City State  Postal Code  Model Year  Make   Model  \\\n",
       "0  5UXTA6C03P    King  Seattle    WA      98177.0        2023   BMW      X5   \n",
       "1  1FMCU0EZXN  Yakima    Moxee    WA      98936.0        2022  FORD  ESCAPE   \n",
       "\n",
       "                    Electric Vehicle Type  \\\n",
       "0  Plug-in Hybrid Electric Vehicle (PHEV)   \n",
       "1  Plug-in Hybrid Electric Vehicle (PHEV)   \n",
       "\n",
       "  Clean Alternative Fuel Vehicle (CAFV) Eligibility  Electric Range  \\\n",
       "0           Clean Alternative Fuel Vehicle Eligible              30   \n",
       "1           Clean Alternative Fuel Vehicle Eligible              38   \n",
       "\n",
       "   Base MSRP  Legislative District  DOL Vehicle ID  \\\n",
       "0          0                  36.0       218985539   \n",
       "1          0                  15.0       197264322   \n",
       "\n",
       "                                Vehicle Location  \\\n",
       "0  POINT (-122.38242499999996 47.77279000000004)   \n",
       "1  POINT (-120.37951169999997 46.55609000000004)   \n",
       "\n",
       "                               Electric Utility  2020 Census Tract  \n",
       "0  CITY OF SEATTLE - (WA)|CITY OF TACOMA - (WA)       5.303300e+10  \n",
       "1                                    PACIFICORP       5.307700e+10  "
      ]
     },
     "execution_count": 3,
     "metadata": {},
     "output_type": "execute_result"
    }
   ],
   "source": [
    "df1 = pd.read_csv(r\"asserts\\Electric_Vehicle_Population_Data.csv\")\n",
    "df1.head(2)"
   ]
  },
  {
   "cell_type": "code",
   "execution_count": 4,
   "id": "30fbe187",
   "metadata": {},
   "outputs": [
    {
     "data": {
      "text/html": [
       "<div>\n",
       "<style scoped>\n",
       "    .dataframe tbody tr th:only-of-type {\n",
       "        vertical-align: middle;\n",
       "    }\n",
       "\n",
       "    .dataframe tbody tr th {\n",
       "        vertical-align: top;\n",
       "    }\n",
       "\n",
       "    .dataframe thead th {\n",
       "        text-align: right;\n",
       "    }\n",
       "</style>\n",
       "<table border=\"1\" class=\"dataframe\">\n",
       "  <thead>\n",
       "    <tr style=\"text-align: right;\">\n",
       "      <th></th>\n",
       "      <th>Date</th>\n",
       "      <th>County</th>\n",
       "      <th>State</th>\n",
       "      <th>Vehicle Primary Use</th>\n",
       "      <th>Battery Electric Vehicles (BEVs)</th>\n",
       "      <th>Plug-In Hybrid Electric Vehicles (PHEVs)</th>\n",
       "      <th>Electric Vehicle (EV) Total</th>\n",
       "      <th>Non-Electric Vehicle Total</th>\n",
       "      <th>Total Vehicles</th>\n",
       "      <th>Percent Electric Vehicles</th>\n",
       "    </tr>\n",
       "  </thead>\n",
       "  <tbody>\n",
       "    <tr>\n",
       "      <th>0</th>\n",
       "      <td>November 30 2020</td>\n",
       "      <td>St. Mary's</td>\n",
       "      <td>MD</td>\n",
       "      <td>Passenger</td>\n",
       "      <td>1</td>\n",
       "      <td>0</td>\n",
       "      <td>1</td>\n",
       "      <td>215</td>\n",
       "      <td>216</td>\n",
       "      <td>0.46</td>\n",
       "    </tr>\n",
       "    <tr>\n",
       "      <th>1</th>\n",
       "      <td>February 28 2021</td>\n",
       "      <td>Sedgwick</td>\n",
       "      <td>KS</td>\n",
       "      <td>Passenger</td>\n",
       "      <td>1</td>\n",
       "      <td>1</td>\n",
       "      <td>2</td>\n",
       "      <td>89</td>\n",
       "      <td>91</td>\n",
       "      <td>2.20</td>\n",
       "    </tr>\n",
       "  </tbody>\n",
       "</table>\n",
       "</div>"
      ],
      "text/plain": [
       "               Date      County State Vehicle Primary Use  \\\n",
       "0  November 30 2020  St. Mary's    MD           Passenger   \n",
       "1  February 28 2021    Sedgwick    KS           Passenger   \n",
       "\n",
       "   Battery Electric Vehicles (BEVs)  Plug-In Hybrid Electric Vehicles (PHEVs)  \\\n",
       "0                                 1                                         0   \n",
       "1                                 1                                         1   \n",
       "\n",
       "   Electric Vehicle (EV) Total  Non-Electric Vehicle Total  Total Vehicles  \\\n",
       "0                            1                         215             216   \n",
       "1                            2                          89              91   \n",
       "\n",
       "   Percent Electric Vehicles  \n",
       "0                       0.46  \n",
       "1                       2.20  "
      ]
     },
     "execution_count": 4,
     "metadata": {},
     "output_type": "execute_result"
    }
   ],
   "source": [
    "df2 = pd.read_csv(r\"asserts\\Electric_Vehicle_Population_Size_History_By_County.csv\")\n",
    "df2.head(2)"
   ]
  },
  {
   "cell_type": "markdown",
   "id": "1c7c18dc",
   "metadata": {},
   "source": [
    "# Cleaning"
   ]
  },
  {
   "cell_type": "markdown",
   "id": "eb042e12",
   "metadata": {},
   "source": [
    "### Filter Out Needed Columns and Rows"
   ]
  },
  {
   "cell_type": "code",
   "execution_count": 5,
   "id": "58f4484d",
   "metadata": {},
   "outputs": [],
   "source": [
    "# filter out only Washington and California records\n",
    "df1_wa_ca = df1[df1['State'].isin(['WA', 'CA'])].reset_index(drop=True)\n",
    "df2_wa_ca = df2[df2['State'].isin(['WA', 'CA'])].reset_index(drop=True)"
   ]
  },
  {
   "cell_type": "code",
   "execution_count": 6,
   "id": "6dc86c44",
   "metadata": {},
   "outputs": [],
   "source": [
    "#Select relevant columns for both datasets(Based on insights I want to draw from both datasets)\n",
    "\n",
    "df1_filtered = df1_wa_ca[['State', 'County', 'City', 'Model Year', 'Make',\n",
    "                          'Model', 'Electric Vehicle Type', 'Electric Range', 'Base MSRP']].copy()\n",
    "\n",
    "\n",
    "\n",
    "df2_filtered = df2_wa_ca[['State', 'County', 'Date', 'Electric Vehicle (EV) Total', 'Non-Electric Vehicle Total',\n",
    "                          'Battery Electric Vehicles (BEVs)', 'Plug-In Hybrid Electric Vehicles (PHEVs)']].copy()\n"
   ]
  },
  {
   "cell_type": "code",
   "execution_count": 7,
   "id": "a5337ec4",
   "metadata": {},
   "outputs": [],
   "source": [
    "# Rename specific columns and rearrange columns for both datasets\n",
    "\n",
    "df1_filtered.rename(columns={\n",
    "    'Model Year': 'ModelYear',\n",
    "    'Electric Vehicle Type': 'EVType',\n",
    "    'Electric Range': 'ElectricRange',\n",
    "    'Base MSRP': 'BasePrice'\n",
    "}, inplace=True)\n",
    "\n",
    "\n",
    "df1_filtered = df1_filtered[['State', 'County', 'City', 'Make', 'Model', 'ModelYear', 'EVType', 'ElectricRange', 'BasePrice']]\n",
    "\n",
    "\n",
    "df2_filtered.rename(columns={\n",
    "    'Electric Vehicle (EV) Total': 'EVTotal',\n",
    "    'Non-Electric Vehicle Total': 'NonEVTotal',\n",
    "    'Battery Electric Vehicles (BEVs)': 'BEVCount',\n",
    "    'Plug-In Hybrid Electric Vehicles (PHEVs)': 'PHEVCount'\n",
    "}, inplace=True)\n",
    "\n",
    "\n",
    "df2_filtered = df2_filtered[['Date', 'State', 'County', 'BEVCount', 'PHEVCount', 'EVTotal', 'NonEVTotal']]\n",
    "\n"
   ]
  },
  {
   "cell_type": "markdown",
   "id": "616c9f7a",
   "metadata": {},
   "source": [
    "### Check Filtered Datasets Info"
   ]
  },
  {
   "cell_type": "code",
   "execution_count": 8,
   "id": "b92117f1",
   "metadata": {},
   "outputs": [
    {
     "data": {
      "text/html": [
       "<div>\n",
       "<style scoped>\n",
       "    .dataframe tbody tr th:only-of-type {\n",
       "        vertical-align: middle;\n",
       "    }\n",
       "\n",
       "    .dataframe tbody tr th {\n",
       "        vertical-align: top;\n",
       "    }\n",
       "\n",
       "    .dataframe thead th {\n",
       "        text-align: right;\n",
       "    }\n",
       "</style>\n",
       "<table border=\"1\" class=\"dataframe\">\n",
       "  <thead>\n",
       "    <tr style=\"text-align: right;\">\n",
       "      <th></th>\n",
       "      <th>State</th>\n",
       "      <th>County</th>\n",
       "      <th>City</th>\n",
       "      <th>Make</th>\n",
       "      <th>Model</th>\n",
       "      <th>ModelYear</th>\n",
       "      <th>EVType</th>\n",
       "      <th>ElectricRange</th>\n",
       "      <th>BasePrice</th>\n",
       "    </tr>\n",
       "  </thead>\n",
       "  <tbody>\n",
       "    <tr>\n",
       "      <th>0</th>\n",
       "      <td>WA</td>\n",
       "      <td>King</td>\n",
       "      <td>Seattle</td>\n",
       "      <td>BMW</td>\n",
       "      <td>X5</td>\n",
       "      <td>2023</td>\n",
       "      <td>Plug-in Hybrid Electric Vehicle (PHEV)</td>\n",
       "      <td>30</td>\n",
       "      <td>0</td>\n",
       "    </tr>\n",
       "    <tr>\n",
       "      <th>1</th>\n",
       "      <td>WA</td>\n",
       "      <td>Yakima</td>\n",
       "      <td>Moxee</td>\n",
       "      <td>FORD</td>\n",
       "      <td>ESCAPE</td>\n",
       "      <td>2022</td>\n",
       "      <td>Plug-in Hybrid Electric Vehicle (PHEV)</td>\n",
       "      <td>38</td>\n",
       "      <td>0</td>\n",
       "    </tr>\n",
       "    <tr>\n",
       "      <th>2</th>\n",
       "      <td>WA</td>\n",
       "      <td>King</td>\n",
       "      <td>Seattle</td>\n",
       "      <td>CHEVROLET</td>\n",
       "      <td>BOLT EV</td>\n",
       "      <td>2018</td>\n",
       "      <td>Battery Electric Vehicle (BEV)</td>\n",
       "      <td>238</td>\n",
       "      <td>0</td>\n",
       "    </tr>\n",
       "    <tr>\n",
       "      <th>3</th>\n",
       "      <td>WA</td>\n",
       "      <td>King</td>\n",
       "      <td>Newcastle</td>\n",
       "      <td>TESLA</td>\n",
       "      <td>MODEL S</td>\n",
       "      <td>2013</td>\n",
       "      <td>Battery Electric Vehicle (BEV)</td>\n",
       "      <td>208</td>\n",
       "      <td>69900</td>\n",
       "    </tr>\n",
       "    <tr>\n",
       "      <th>4</th>\n",
       "      <td>WA</td>\n",
       "      <td>Kitsap</td>\n",
       "      <td>Bremerton</td>\n",
       "      <td>FORD</td>\n",
       "      <td>C-MAX</td>\n",
       "      <td>2015</td>\n",
       "      <td>Plug-in Hybrid Electric Vehicle (PHEV)</td>\n",
       "      <td>19</td>\n",
       "      <td>0</td>\n",
       "    </tr>\n",
       "  </tbody>\n",
       "</table>\n",
       "</div>"
      ],
      "text/plain": [
       "  State  County       City       Make    Model  ModelYear  \\\n",
       "0    WA    King    Seattle        BMW       X5       2023   \n",
       "1    WA  Yakima      Moxee       FORD   ESCAPE       2022   \n",
       "2    WA    King    Seattle  CHEVROLET  BOLT EV       2018   \n",
       "3    WA    King  Newcastle      TESLA  MODEL S       2013   \n",
       "4    WA  Kitsap  Bremerton       FORD    C-MAX       2015   \n",
       "\n",
       "                                   EVType  ElectricRange  BasePrice  \n",
       "0  Plug-in Hybrid Electric Vehicle (PHEV)             30          0  \n",
       "1  Plug-in Hybrid Electric Vehicle (PHEV)             38          0  \n",
       "2          Battery Electric Vehicle (BEV)            238          0  \n",
       "3          Battery Electric Vehicle (BEV)            208      69900  \n",
       "4  Plug-in Hybrid Electric Vehicle (PHEV)             19          0  "
      ]
     },
     "execution_count": 8,
     "metadata": {},
     "output_type": "execute_result"
    }
   ],
   "source": [
    "df1_filtered.head()\n"
   ]
  },
  {
   "cell_type": "code",
   "execution_count": 9,
   "id": "661d5b51",
   "metadata": {},
   "outputs": [
    {
     "data": {
      "text/html": [
       "<div>\n",
       "<style scoped>\n",
       "    .dataframe tbody tr th:only-of-type {\n",
       "        vertical-align: middle;\n",
       "    }\n",
       "\n",
       "    .dataframe tbody tr th {\n",
       "        vertical-align: top;\n",
       "    }\n",
       "\n",
       "    .dataframe thead th {\n",
       "        text-align: right;\n",
       "    }\n",
       "</style>\n",
       "<table border=\"1\" class=\"dataframe\">\n",
       "  <thead>\n",
       "    <tr style=\"text-align: right;\">\n",
       "      <th></th>\n",
       "      <th>Date</th>\n",
       "      <th>State</th>\n",
       "      <th>County</th>\n",
       "      <th>BEVCount</th>\n",
       "      <th>PHEVCount</th>\n",
       "      <th>EVTotal</th>\n",
       "      <th>NonEVTotal</th>\n",
       "    </tr>\n",
       "  </thead>\n",
       "  <tbody>\n",
       "    <tr>\n",
       "      <th>0</th>\n",
       "      <td>April 30 2021</td>\n",
       "      <td>WA</td>\n",
       "      <td>Thurston</td>\n",
       "      <td>0</td>\n",
       "      <td>0</td>\n",
       "      <td>0</td>\n",
       "      <td>56710</td>\n",
       "    </tr>\n",
       "    <tr>\n",
       "      <th>1</th>\n",
       "      <td>October 31 2017</td>\n",
       "      <td>WA</td>\n",
       "      <td>Adams</td>\n",
       "      <td>3</td>\n",
       "      <td>3</td>\n",
       "      <td>6</td>\n",
       "      <td>12283</td>\n",
       "    </tr>\n",
       "    <tr>\n",
       "      <th>2</th>\n",
       "      <td>July 31 2018</td>\n",
       "      <td>WA</td>\n",
       "      <td>Whatcom</td>\n",
       "      <td>2</td>\n",
       "      <td>0</td>\n",
       "      <td>2</td>\n",
       "      <td>42313</td>\n",
       "    </tr>\n",
       "    <tr>\n",
       "      <th>3</th>\n",
       "      <td>August 31 2019</td>\n",
       "      <td>WA</td>\n",
       "      <td>Grays Harbor</td>\n",
       "      <td>0</td>\n",
       "      <td>0</td>\n",
       "      <td>0</td>\n",
       "      <td>20570</td>\n",
       "    </tr>\n",
       "    <tr>\n",
       "      <th>4</th>\n",
       "      <td>October 31 2019</td>\n",
       "      <td>WA</td>\n",
       "      <td>Cowlitz</td>\n",
       "      <td>0</td>\n",
       "      <td>0</td>\n",
       "      <td>0</td>\n",
       "      <td>29023</td>\n",
       "    </tr>\n",
       "  </tbody>\n",
       "</table>\n",
       "</div>"
      ],
      "text/plain": [
       "              Date State        County  BEVCount  PHEVCount  EVTotal  \\\n",
       "0    April 30 2021    WA      Thurston         0          0        0   \n",
       "1  October 31 2017    WA         Adams         3          3        6   \n",
       "2     July 31 2018    WA       Whatcom         2          0        2   \n",
       "3   August 31 2019    WA  Grays Harbor         0          0        0   \n",
       "4  October 31 2019    WA       Cowlitz         0          0        0   \n",
       "\n",
       "   NonEVTotal  \n",
       "0       56710  \n",
       "1       12283  \n",
       "2       42313  \n",
       "3       20570  \n",
       "4       29023  "
      ]
     },
     "execution_count": 9,
     "metadata": {},
     "output_type": "execute_result"
    }
   ],
   "source": [
    "df2_filtered.head()"
   ]
  },
  {
   "cell_type": "code",
   "execution_count": 10,
   "id": "af7e5a1b",
   "metadata": {},
   "outputs": [
    {
     "name": "stdout",
     "output_type": "stream",
     "text": [
      "<class 'pandas.core.frame.DataFrame'>\n",
      "RangeIndex: 143359 entries, 0 to 143358\n",
      "Data columns (total 9 columns):\n",
      " #   Column         Non-Null Count   Dtype \n",
      "---  ------         --------------   ----- \n",
      " 0   State          143359 non-null  object\n",
      " 1   County         143357 non-null  object\n",
      " 2   City           143357 non-null  object\n",
      " 3   Make           143359 non-null  object\n",
      " 4   Model          143359 non-null  object\n",
      " 5   ModelYear      143359 non-null  int64 \n",
      " 6   EVType         143359 non-null  object\n",
      " 7   ElectricRange  143359 non-null  int64 \n",
      " 8   BasePrice      143359 non-null  int64 \n",
      "dtypes: int64(3), object(6)\n",
      "memory usage: 9.8+ MB\n",
      "\n",
      "\n",
      "\n",
      "<class 'pandas.core.frame.DataFrame'>\n",
      "RangeIndex: 7543 entries, 0 to 7542\n",
      "Data columns (total 7 columns):\n",
      " #   Column      Non-Null Count  Dtype \n",
      "---  ------      --------------  ----- \n",
      " 0   Date        7543 non-null   object\n",
      " 1   State       7543 non-null   object\n",
      " 2   County      7543 non-null   object\n",
      " 3   BEVCount    7543 non-null   int64 \n",
      " 4   PHEVCount   7543 non-null   int64 \n",
      " 5   EVTotal     7543 non-null   int64 \n",
      " 6   NonEVTotal  7543 non-null   int64 \n",
      "dtypes: int64(4), object(3)\n",
      "memory usage: 412.6+ KB\n"
     ]
    }
   ],
   "source": [
    "df1_filtered.info()\n",
    "print(\"\\n\\n\")\n",
    "df2_filtered.info()"
   ]
  },
  {
   "cell_type": "markdown",
   "id": "8d820caa",
   "metadata": {},
   "source": [
    "### Handling Missing Values for Both Datasets"
   ]
  },
  {
   "cell_type": "code",
   "execution_count": 11,
   "id": "bbe14a2a",
   "metadata": {},
   "outputs": [
    {
     "name": "stdout",
     "output_type": "stream",
     "text": [
      "Missing values in df1_filtered:\n",
      "State            0\n",
      "County           2\n",
      "City             2\n",
      "Make             0\n",
      "Model            0\n",
      "ModelYear        0\n",
      "EVType           0\n",
      "ElectricRange    0\n",
      "BasePrice        0\n",
      "dtype: int64\n"
     ]
    }
   ],
   "source": [
    "# Check missing values for df1_filtered\n",
    "missing_values_df1 = df1_filtered.isna().sum()\n",
    "print(\"Missing values in df1_filtered:\")\n",
    "print(missing_values_df1)\n"
   ]
  },
  {
   "cell_type": "code",
   "execution_count": 12,
   "id": "53fcd8e4",
   "metadata": {},
   "outputs": [
    {
     "name": "stdout",
     "output_type": "stream",
     "text": [
      "Missing values in df2_combined_insights:\n",
      "Date          0\n",
      "State         0\n",
      "County        0\n",
      "BEVCount      0\n",
      "PHEVCount     0\n",
      "EVTotal       0\n",
      "NonEVTotal    0\n",
      "dtype: int64\n"
     ]
    }
   ],
   "source": [
    "# Check missing values for df2_filtered\n",
    "missing_values_df2 = df2_filtered.isna().sum()\n",
    "print(\"Missing values in df2_combined_insights:\")\n",
    "print(missing_values_df2)\n"
   ]
  },
  {
   "cell_type": "code",
   "execution_count": 13,
   "id": "e6a4819b",
   "metadata": {},
   "outputs": [
    {
     "name": "stdout",
     "output_type": "stream",
     "text": [
      "Rows with missing County or City values:\n",
      "       State County City   Make    Model  ModelYear  \\\n",
      "126446    CA    NaN  NaN  TESLA  MODEL 3       2018   \n",
      "136203    CA    NaN  NaN  TESLA  MODEL 3       2022   \n",
      "\n",
      "                                EVType  ElectricRange  BasePrice  \n",
      "126446  Battery Electric Vehicle (BEV)            215          0  \n",
      "136203  Battery Electric Vehicle (BEV)              0          0  \n"
     ]
    }
   ],
   "source": [
    "# Find the rows where 'County' or 'City' is missing in df1_filtered\n",
    "missing_county_or_city = df1_filtered[df1_filtered['County'].isna() | df1_filtered['City'].isna()]\n",
    "\n",
    "print(\"Rows with missing County or City values:\")\n",
    "print(missing_county_or_city)\n"
   ]
  },
  {
   "cell_type": "code",
   "execution_count": 14,
   "id": "af35480d",
   "metadata": {},
   "outputs": [],
   "source": [
    "# Replacing the missing values with a placeholder\n",
    "df1_filtered.fillna({'County': 'Unknown', 'City': 'Unknown'}, inplace=True)\n"
   ]
  },
  {
   "cell_type": "markdown",
   "id": "1fcf6cea",
   "metadata": {},
   "source": [
    "### Data Type Conversion"
   ]
  },
  {
   "cell_type": "code",
   "execution_count": 15,
   "id": "ab770dcd",
   "metadata": {},
   "outputs": [],
   "source": [
    "df2_filtered['Date'] = pd.to_datetime(df2_filtered['Date'])\n"
   ]
  },
  {
   "cell_type": "markdown",
   "id": "183805cc",
   "metadata": {},
   "source": [
    "### Rename the Values in \"EVType\" Column"
   ]
  },
  {
   "cell_type": "code",
   "execution_count": 16,
   "id": "a9d39173",
   "metadata": {},
   "outputs": [
    {
     "name": "stdout",
     "output_type": "stream",
     "text": [
      "Battery Electric Vehicle (BEV)            110716\n",
      "Plug-in Hybrid Electric Vehicle (PHEV)     32643\n",
      "Name: EVType, dtype: int64\n"
     ]
    }
   ],
   "source": [
    "#checking the EVType value counts\n",
    "print(df1_filtered[\"EVType\"].value_counts())\n",
    "\n",
    "\n",
    "df1_filtered['EVType'] = df1_filtered['EVType'].replace({\n",
    "    'Battery Electric Vehicle (BEV)': 'BEV',\n",
    "    'Plug-in Hybrid Electric Vehicle (PHEV)': 'PHEV'\n",
    "})\n"
   ]
  },
  {
   "cell_type": "code",
   "execution_count": 18,
   "id": "8b049ad0",
   "metadata": {},
   "outputs": [],
   "source": [
    "# save two filtered datasets to csv\n",
    "\n",
    "file_path1 = 'asserts/df1_filtered.csv'\n",
    "df1_filtered.to_csv(file_path1, index=False)\n",
    "\n",
    "file_path2 = 'asserts/df2_filtered.csv'\n",
    "df2_filtered.to_csv(file_path2, index=False)\n"
   ]
  },
  {
   "cell_type": "code",
   "execution_count": null,
   "id": "f69380f8",
   "metadata": {},
   "outputs": [],
   "source": []
  }
 ],
 "metadata": {
  "kernelspec": {
   "display_name": "Python 3 (ipykernel)",
   "language": "python",
   "name": "python3"
  },
  "language_info": {
   "codemirror_mode": {
    "name": "ipython",
    "version": 3
   },
   "file_extension": ".py",
   "mimetype": "text/x-python",
   "name": "python",
   "nbconvert_exporter": "python",
   "pygments_lexer": "ipython3",
   "version": "3.8.13"
  },
  "toc": {
   "base_numbering": 1,
   "nav_menu": {},
   "number_sections": false,
   "sideBar": true,
   "skip_h1_title": false,
   "title_cell": "Table of Contents",
   "title_sidebar": "Contents",
   "toc_cell": false,
   "toc_position": {},
   "toc_section_display": true,
   "toc_window_display": false
  }
 },
 "nbformat": 4,
 "nbformat_minor": 5
}
